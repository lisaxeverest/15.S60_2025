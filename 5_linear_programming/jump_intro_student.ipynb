{
 "cells": [
  {
   "cell_type": "markdown",
   "metadata": {},
   "source": [
    "# Intro to JuMP\n",
    "\n",
    "This notebook is based on materials by Kayla Cummings\n",
    "(https://github.com/kscummings/15.S60_2022/tree/main/6_linear_programming).\n",
    "\n",
    "\n",
    "### Notebook outline\n",
    "\n",
    "1. Build and solve a simple model (easy)\n",
    "2. Incorporate some fancier data pre-processing\n",
    "3. Build and solve a large number of similar LPs (modularize!)\n",
    "\n",
    "_Note_: The preassignment did not include packages Distances, Random, and StatsBase; please install those by uncommenting the line below."
   ]
  },
  {
   "cell_type": "markdown",
   "metadata": {},
   "source": [
    "[JuMP.jl](https://github.com/JuliaOpt/JuMP.jl) is a high-level modeling language for mathematical optimization developed in Julia. It currently supports \n",
    "- a bajillion solvers (Artelys Knitro, BARON, Bonmin, Cbc, Clp, Couenne, CPLEX, ECOS, FICO Xpress, GLPK, Gurobi, Ipopt, MOSEK, NLopt, SCS ...) \n",
    "- many problem classes, including linear programming, (mixed) integer programming, second-order conic programming, semidefinite programming, and nonlinear programming.\n",
    "\n",
    "![figures/supported-solvers.png](figures/supported-solvers.png)"
   ]
  },
  {
   "cell_type": "code",
   "execution_count": 1,
   "metadata": {},
   "outputs": [],
   "source": [
    "# using Pkg; Pkg.add(\"Distances\"); Pkg.add(\"StatsBase\"); Pkg.add(\"Random\")"
   ]
  },
  {
   "cell_type": "code",
   "execution_count": null,
   "metadata": {},
   "outputs": [],
   "source": [
    "using JuMP, Gurobi, CSV, DataFrames, Plots, Distances, StatsBase, Random\n",
    "\n",
    "const GRB_ENV = Gurobi.Env();"
   ]
  },
  {
   "cell_type": "markdown",
   "metadata": {},
   "source": [
    "## 1. Building and solving simple models\n",
    "\n",
    "Let's recall the basic syntax of building a linear program in Julia with JuMP."
   ]
  },
  {
   "cell_type": "code",
   "execution_count": 3,
   "metadata": {},
   "outputs": [],
   "source": [
    "#--- generate some random parameters \n",
    "n = 6\n",
    "A = round.(rand(n, n), digits=2)   # random resource matrix\n",
    "b = round.(rand(n) * 5, digits=2); # randm demand"
   ]
  },
  {
   "cell_type": "markdown",
   "metadata": {},
   "source": [
    "How would be formulate the following?\n",
    "\n",
    "\\begin{align}\n",
    "\\min \\quad &e^\\top x \\\\\n",
    "\\text{s.t. } \\quad &A x\\geq b \\\\\n",
    "&x \\geq 0\n",
    "\\end{align}"
   ]
  },
  {
   "cell_type": "code",
   "execution_count": null,
   "metadata": {},
   "outputs": [],
   "source": [
    "#--- construct the model\n",
    "m = JuMP.Model(() -> Gurobi.Optimizer(GRB_ENV))\n",
    "JuMP.@variable(m, x[1:n] >= 0)\n",
    "JuMP.@constraint(m, resource, A*x .>= b)\n",
    "JuMP.@objective(m, Min, sum(x));"
   ]
  },
  {
   "cell_type": "code",
   "execution_count": null,
   "metadata": {
    "scrolled": true
   },
   "outputs": [],
   "source": [
    "#--- look at it!\n",
    "JuMP.latex_formulation(m)"
   ]
  },
  {
   "cell_type": "code",
   "execution_count": null,
   "metadata": {
    "scrolled": true
   },
   "outputs": [],
   "source": [
    "#--- solve!\n",
    "JuMP.optimize!(m)"
   ]
  },
  {
   "cell_type": "code",
   "execution_count": null,
   "metadata": {},
   "outputs": [],
   "source": [
    "#--- optimal value?\n",
    "obj = JuMP.objective_value(m)"
   ]
  },
  {
   "cell_type": "markdown",
   "metadata": {},
   "source": [
    "### That's quite the print-out! What do we do with it? \n",
    "The solver log has some useful information! ([Here](https://www.gurobi.com/documentation/11.0/refman/logging.html) is a comprehensive summary of Gurobi logging.)\n",
    "\n",
    "* Summary of model size\n",
    "* Parameter ranges (troubleshoot numerical errors)\n",
    "* Dual simplex solution progress\n",
    "    * Objective value of current basis\n",
    "    * Magnitudes of primal and dual infeasibility\n",
    "    * Iteration and time elapsed\n",
    "* Objective value\n",
    "* Tottal solve time\n",
    "* Callback summaries\n",
    "\n",
    "However, if you want to turn it off..."
   ]
  },
  {
   "cell_type": "code",
   "execution_count": null,
   "metadata": {},
   "outputs": [],
   "source": [
    "solver = JuMP.optimizer_with_attributes(() -> Gurobi.Optimizer(GRB_ENV), \"OutputFlag\" => 0)\n",
    "m = JuMP.Model(solver)\n",
    "\n",
    "# while we're at it... an equivalent way to formulate, without matrix ops\n",
    "JuMP.@variable(m, x[1:n] >= 0)\n",
    "JuMP.@constraint(m, resource[i=1:n], sum(A[i,j] * x[j] for j in 1:n) >= b[i])\n",
    "JuMP.@objective(m, Min, sum(x[j] for j in 1:n));"
   ]
  },
  {
   "cell_type": "code",
   "execution_count": null,
   "metadata": {},
   "outputs": [],
   "source": [
    "#--- so quiet...\n",
    "JuMP.optimize!(m)"
   ]
  },
  {
   "cell_type": "code",
   "execution_count": null,
   "metadata": {},
   "outputs": [],
   "source": [
    "#--- equivalent?\n",
    "JuMP.objective_value(m) == obj"
   ]
  },
  {
   "cell_type": "markdown",
   "metadata": {},
   "source": [
    "### Gurobi parameters\n",
    "\n",
    "Gurobi offers a lot of solver parameters. \n",
    "Here are just a few:\n",
    "\n",
    "* ``TimeLimit``: Max time solver will run (in seconds)\n",
    "* ``NodeLimit``: Max nodes to explore before solver quits\n",
    "* ``MIPGap``: Termination criterion for relative gap $\\frac{UB-LB}{LB}$.\n",
    "* ``MIPFocus``: High-level controls on solver priority (proving optimality or increasing bound or finding optimal solution).\n",
    "\n",
    "Set their values in the solver definition.\n",
    "```\n",
    "solver = JuMP.optimizer_with_attributes(() -> Gurobi.Optimizer(GRB_ENV), \"OutputFlag\" => 0, \"TimeLimit\" => 60)\n",
    "```\n",
    "\n",
    "\n",
    "Some parameters for simplex method and interior point method (barrier method)\n",
    "\n",
    "\n",
    "The full list of all parameters https://www.gurobi.com/documentation/11.0/refman/parameters.html\n",
    "\n",
    "![figures/example_parameters.png](figures/example_parameters.png)\n",
    "\n"
   ]
  },
  {
   "cell_type": "markdown",
   "metadata": {},
   "source": [
    "### Common model queries\n",
    "\n",
    "What other information do we want to squeeze out of our model?\n",
    "* Primal and dual solutions\n",
    "* Termination status (possible outcomes [here](https://jump.dev/JuMP.jl/stable/moi/reference/models/#MathOptInterface.TerminationStatusCode))"
   ]
  },
  {
   "cell_type": "code",
   "execution_count": null,
   "metadata": {},
   "outputs": [],
   "source": [
    "@show JuMP.value.(x);                # primal solution"
   ]
  },
  {
   "cell_type": "code",
   "execution_count": null,
   "metadata": {},
   "outputs": [],
   "source": [
    "@show JuMP.dual.(resource);  # dual solution accociated with the constraint \"resource\""
   ]
  },
  {
   "cell_type": "code",
   "execution_count": null,
   "metadata": {},
   "outputs": [],
   "source": [
    "@show JuMP.termination_status(m);     # did the model get solved to optimality?"
   ]
  },
  {
   "cell_type": "markdown",
   "metadata": {},
   "source": [
    "### Exercise\n",
    "\n",
    "Implement and solve the dual of our tiny optimization model up there. Verify that you get the same objective value!"
   ]
  },
  {
   "cell_type": "code",
   "execution_count": null,
   "metadata": {},
   "outputs": [],
   "source": [
    "dual_problem = JuMP.Model(() -> Gurobi.Optimizer(GRB_ENV))\n",
    "\n",
    "# Define variables, constraints, the objective function and solve the problem\n",
    "####\n",
    "#### YOUR CODE HERE\n",
    "####"
   ]
  },
  {
   "cell_type": "code",
   "execution_count": null,
   "metadata": {},
   "outputs": [],
   "source": [
    "# Check if you're correct\n",
    "abs(JuMP.objective_value(dual_problem) - obj) < 1e-5"
   ]
  },
  {
   "cell_type": "markdown",
   "metadata": {},
   "source": [
    "### Where to get help\n",
    "\n",
    "- JuMP docs https://jump.dev/JuMP.jl/stable/\n",
    "- JuMP issues https://github.com/JuliaOpt/JuMP.jl/issues\n",
    "- Discourse https://discourse.julialang.org/c/domain/opt\n",
    "- JuMP style guide https://jump.dev/JuMP.jl/stable/developers/style/\n",
    "- JuMP supported solvers https://jump.dev/JuMP.jl/stable/installation/#Supported-solvers\n",
    "- Some (old but useful) tutorials on JuMP https://github.com/jump-dev/JuMPTutorials.jl"
   ]
  },
  {
   "cell_type": "markdown",
   "metadata": {},
   "source": [
    "## 2. Building a model with fancy data pre-processing\n",
    "\n",
    "That was great and all, but what about the unsexy side of things where I have a bunch of datasets that I need to translate into model inputs? How do I do that and stay organized?? Let's set up a case study."
   ]
  },
  {
   "cell_type": "markdown",
   "metadata": {},
   "source": [
    "Greater Boston Area needs to make sure that its citizens are vaccinated from a latest varant of COVID. Their goal is to vaccinate everyone. Let's respect a statewide budget and minimize total distance traveled by those being vaccinated. Where should GBA set up temporary mass vaccination sites?\n",
    "\n",
    "**Sets**\n",
    "* Cities and towns $C$\n",
    "* Potential vaccination facilities $F$\n",
    "\n",
    "**Parameters**\n",
    "* $r_{j}$ - number of persons in city $j \\in C$ who need to be vaccinated \n",
    "* $d_{ij}$ - distance from facility $i \\in F$ to city $j \\in C$ (assume the same for everyone in area $j$)\n",
    "* $K_i$ - fixed cost of opening facility $i \\in F$ \n",
    "* $P_i$ - number of persons who can be vaccinated at facility $i \\in F$, assuming the facility is open\n",
    "* $B$ - budget for opening facilities\n",
    "* $L$ - maximum number of vaccination sites open\n",
    "\n",
    "**Decisions**\n",
    "* $x_{ij}$ - number of people in city $j \\in C$ vaccinated at site $i \\in F$ \n",
    "* $y_i$ - whether facility $i \\in F$ is open"
   ]
  },
  {
   "cell_type": "markdown",
   "metadata": {},
   "source": []
  },
  {
   "cell_type": "markdown",
   "metadata": {},
   "source": [
    "**Formulation**\n",
    "\n",
    "\\begin{align}\n",
    "\\min \\quad &\\sum_{i \\in F} \\sum_{j \\in C} d_{ij} \\cdot x_{ij} \\\\\n",
    "\\text{s.t. } \\quad &\\sum_{i \\in F} K_i \\cdot y_i \\leq B && &&\\text{Budget} \\\\\n",
    "&\\sum_{i \\in F} y_i \\leq L && &&\\text{Location limit}\\\\\n",
    "&\\sum_{j \\in C}x_{ij} \\leq P_i \\cdot y_{i} &&i \\in F &&\\text{Capacity} \\\\\n",
    "&\\sum_{i \\in F}x_{ij} = r_{j} &&j \\in C &&\\text{Demand} \\\\\n",
    "&x_{ij} \\geq 0 &&i \\in F, j \\in C \\\\\n",
    "&y_{i} \\in \\{0,1\\} &&i \\in F \\\\\n",
    "\\end{align}"
   ]
  },
  {
   "cell_type": "markdown",
   "metadata": {},
   "source": [
    "### 2.0 From raw data to formatted data\n",
    "\n",
    "* MA population at ZIP code level ([source](https://censusreporter.org/data/table/?table=B01003))\n",
    "* Prettier ZIP code names ([source](https://www.zip-codes.com/state/ma.asp))\n",
    "* Potential facility locations and their capacities/costs (source: simulated in Python. The script is in the raw data directory)"
   ]
  },
  {
   "cell_type": "markdown",
   "metadata": {},
   "source": [
    "### 2.1 From formatted data to model inputs\n",
    "\n",
    "Let's read in our formatted data toward constructing the sets and parameters that we need."
   ]
  },
  {
   "cell_type": "code",
   "execution_count": 16,
   "metadata": {},
   "outputs": [],
   "source": [
    "#--- data paths\n",
    "data_dir = joinpath(\"data\", \"formatted\")\n",
    "population_data_path = joinpath(data_dir, \"ma_population.csv\")\n",
    "facility_data_path = joinpath(data_dir, \"facilities.csv\");"
   ]
  },
  {
   "cell_type": "code",
   "execution_count": null,
   "metadata": {
    "scrolled": true
   },
   "outputs": [],
   "source": [
    "#--- population data\n",
    "population_data = CSV.read(population_data_path,DataFrame)"
   ]
  },
  {
   "cell_type": "code",
   "execution_count": null,
   "metadata": {
    "scrolled": true
   },
   "outputs": [],
   "source": [
    "#--- facility data (simulated)\n",
    "facility_data = CSV.read(facility_data_path,DataFrame)"
   ]
  },
  {
   "cell_type": "code",
   "execution_count": null,
   "metadata": {},
   "outputs": [],
   "source": [
    "#--- visualize\n",
    "scatter(population_data[:, \"longitude\"], population_data[:, \"latitude\"], markersize=0.0002*population_data[:, \"population\"], label=\"Population\")\n",
    "scatter!(facility_data[:, \"longitude\"], facility_data[:, \"latitude\"], color=\"red\", markersize=0.00002*facility_data[:, \"capacity\"],label=\"Facilities\")"
   ]
  },
  {
   "cell_type": "markdown",
   "metadata": {},
   "source": [
    "Imagine a map of the GBA underneath the dots... ;)"
   ]
  },
  {
   "cell_type": "markdown",
   "metadata": {},
   "source": [
    "### What input formatting needs to be done?\n",
    "\n",
    "Some model attributes are straightforward translations of dataframe columns:\n",
    "* zip codes and facility IDs - $C, F$\n",
    "* facility capacities - $P$\n",
    "* fixed facility costs - $K$\n",
    "* demand - $r$\n",
    "\n",
    "Others are constants:\n",
    "* budget - $B$\n",
    "* max number of facilities - $L$\n",
    "\n",
    "And some need to be computed:\n",
    "* distances between facilities and residents - $d$"
   ]
  },
  {
   "cell_type": "markdown",
   "metadata": {},
   "source": [
    "### Collecting all of the model components\n",
    "\n",
    "This is a lot of stuff to keep track of. How can I keep everything organized?\n",
    "\n",
    "We will create a Julia struct, which is a flexible data structure that can keep track of attributes of all types. If you are familiar with Python, a struct is analogous to a class, but we cannot assign methods to it."
   ]
  },
  {
   "cell_type": "code",
   "execution_count": 20,
   "metadata": {},
   "outputs": [],
   "source": [
    "struct FacilityLocationData\n",
    "    #--- constants \n",
    "    L::Int64        # location limit\n",
    "    B::Float64      # budget\n",
    "    \n",
    "    #--- sets\n",
    "    C::Vector{String}  # zip codes \n",
    "    F::Vector{String}  # facility IDs\n",
    "    \n",
    "    #--- parameters\n",
    "    r::Dict{String,Int64}                  # demand \n",
    "    P::Dict{String,Int64}                  # facility capacity\n",
    "    K::Dict{String,Float64}                # fixed cost\n",
    "    d::Dict{Tuple{String,String},Float64}  # distances\n",
    "    \n",
    "    #--- extra information\n",
    "    city_county::Dict{String,String}             # city/county zip code map\n",
    "    population_gps::Dict{String,Tuple{Float64,Float64}} # GPS points of each zip code\n",
    "    facility_gps::Dict{String,Tuple{Float64,Float64}} # GPS points of each facility\n",
    "end"
   ]
  },
  {
   "cell_type": "markdown",
   "metadata": {},
   "source": [
    "We cannot change the struct once it has been created. If we want to be able to change values, we create a mutable struct instead. (Just put the word \"mutable\" in front of struct at the top of the previous cell.)\n",
    "\n",
    "Let's build a constructor for our FacilityLocationData data structure. We are taking advantage of the fact that Julia functions can have many _methods_."
   ]
  },
  {
   "cell_type": "markdown",
   "metadata": {},
   "source": [
    "### Exercise\n",
    "\n",
    "Part of the constructor has been completed before you. But part of it hasn't... fill in the missing model components."
   ]
  },
  {
   "cell_type": "code",
   "execution_count": null,
   "metadata": {},
   "outputs": [],
   "source": [
    "\"\"\"\n",
    "CONSTRUCTOR\n",
    "\n",
    "### Keywords\n",
    "* `pop_fp` - MA population filepath\n",
    "* `fac_fp` - facility location filepath\n",
    "* `L` - max facility locations that can be opened\n",
    "* `B` - budget\n",
    "\"\"\"\n",
    "function FacilityLocationData(\n",
    "        pop_fp::String,\n",
    "        fac_fp::String,\n",
    "        L::Int64=20,\n",
    "        B::Float64=4e6\n",
    "    )\n",
    "    # read in raw data\n",
    "    # note: this code is redundant with the above code, but that was preliminary data exploration!\n",
    "    population_data = CSV.read(pop_fp, DataFrame)\n",
    "    population_data[:, \"zip_code\"] = replace.(population_data[:, \"zip_code\"], \"z\" => \"\")\n",
    "    facility_data = CSV.read(fac_fp, DataFrame)\n",
    "    \n",
    "    # sets\n",
    "    C = String.(population_data[:, \"zip_code\"])\n",
    "    F = String.(facility_data[:, \"facility_id\"])\n",
    "    \n",
    "    # some extra info available in the pop dataframe\n",
    "    city_county = Dict{String,String}(\n",
    "        row[\"zip_code\"] => row[\"city\"] .* \", \" .* row[\"county\"] for row in eachrow(population_data) \n",
    "            if (!ismissing(row[\"city\"]) & !ismissing(row[\"county\"]))\n",
    "    )\n",
    "    population_gps = Dict{String,Tuple{Float64,Float64}}(\n",
    "        population_data[:, \"zip_code\"] .=> tuple.(population_data[:, \"latitude\"], population_data[:, \"longitude\"])\n",
    "    )\n",
    "    facility_gps = Dict{String,Tuple{Float64,Float64}}(\n",
    "        facility_data[:, \"facility_id\"] .=> tuple.(facility_data[:, \"latitude\"], facility_data[:, \"longitude\"])\n",
    "    )\n",
    "\n",
    "    # facility capacity and fixed cost parameters\n",
    "    P = Dict{String,Int64}(F .=> facility_data[:, \"capacity\"]) \n",
    "    K = Dict{String,Float64}(F .=> facility_data[:, \"fixed_cost\"])\n",
    "                    \n",
    "    # demand parameters\n",
    "    r = Dict{String,Int64}(population_data[:, \"zip_code\"] .=> population_data[:, \"population\"])\n",
    "                \n",
    "    # distances\n",
    "    hav = Distances.Haversine(3958.8); # the radius of Earth in miles\n",
    "    d = Dict{Tuple{String,String},Float64}(\n",
    "        (res, fac) => Distances.evaluate(hav, rgps, fgps) for (res, rgps) in population_gps for (fac, fgps) in facility_gps\n",
    "    )\n",
    "                            \n",
    "    return FacilityLocationData(L, B, C, F, r, P, K, d, city_county, population_gps, facility_gps)\n",
    "end"
   ]
  },
  {
   "cell_type": "code",
   "execution_count": 22,
   "metadata": {},
   "outputs": [],
   "source": [
    "FLD = FacilityLocationData(population_data_path, facility_data_path);"
   ]
  },
  {
   "cell_type": "markdown",
   "metadata": {},
   "source": [
    "Now we can access any model attribute by name. Try it out!"
   ]
  },
  {
   "cell_type": "code",
   "execution_count": null,
   "metadata": {},
   "outputs": [],
   "source": [
    "# budget\n",
    "@show FLD.B;"
   ]
  },
  {
   "cell_type": "code",
   "execution_count": null,
   "metadata": {},
   "outputs": [],
   "source": [
    "# zip codes\n",
    "@show FLD.C;"
   ]
  },
  {
   "cell_type": "code",
   "execution_count": null,
   "metadata": {},
   "outputs": [],
   "source": [
    "# facility capacity\n",
    "@show FLD.P;"
   ]
  },
  {
   "cell_type": "markdown",
   "metadata": {},
   "source": [
    "What was the point of all of that? Can't we just use the parameter names themselves?\n",
    "\n",
    "Well, good extensible code is _modularized_! By limiting all of our model components to one data structure, we have drastically simplified the arguments to any functions that build and solve models.\n",
    "\n",
    "We want code that looks roughly like this:\n",
    "\n",
    "```\n",
    "FLD = FacilityLocationData(data_dir)\n",
    "model = build_model(FLD)\n",
    "solution = solve_model(model)\n",
    "```\n",
    "\n",
    "Look how lovely and legible that is! As we know, line 1 hides a lot of work. But now we have designed narrative, extensible code. If we need more info, we can go to the function(s) containing that info. Let's get to work on lines 2 and 3..."
   ]
  },
  {
   "cell_type": "markdown",
   "metadata": {},
   "source": [
    "### 2.2 Model formulation\n",
    "\n",
    "Now what? Let's work on a `build_model` function.\n",
    "\n"
   ]
  },
  {
   "cell_type": "markdown",
   "metadata": {},
   "source": [
    "### Exercise\n",
    "\n",
    "Formulate the above model in JuMP using the inputs we just formatted.\n",
    "\n",
    "Before you begin, here is some syntax that may be useful.\n",
    "\n",
    "```\n",
    "@variables m begin\n",
    "    variable1_name >= 0\n",
    "    variable2_name, Bin\n",
    "end\n",
    "\n",
    "@constraints m begin\n",
    "    opt_constraint1_name, constraint1\n",
    "    opt_constraint2_name[constraint2_index], constraint2\n",
    "end\n",
    "```\n",
    "\n",
    "The above is a less verbose, equivalent way of coding:\n",
    "```\n",
    "@variable(m, variable1_name >= 0)\n",
    "@variable(m, variable2_name, Bin)\n",
    "@constraint(m, opt_constraint1_name, constraint1)\n",
    "@constraint(m, opt_constraint2_name[constraint2_index], constraint2)\n",
    "```"
   ]
  },
  {
   "cell_type": "markdown",
   "metadata": {},
   "source": [
    "As a reminder, here's the formulation.\n",
    "\n",
    "\n",
    "\\begin{align}\n",
    "\\min \\quad &\\sum_{i \\in F} \\sum_{j \\in C} d_{ij} \\cdot x_{ij} \\\\\n",
    "\\text{s.t. } \\quad &\\sum_{i \\in F} K_i \\cdot y_i \\leq B && &&\\text{Budget} \\\\\n",
    "&\\sum_{i \\in F} y_i \\leq L && &&\\text{Location limit}\\\\\n",
    "&\\sum_{j \\in C}x_{ij} \\leq P_i \\cdot y_{i} &&i \\in F &&\\text{Capacity} \\\\\n",
    "&\\sum_{i \\in F}x_{ij} = r_{j} &&j \\in C &&\\text{Demand} \\\\\n",
    "&x_{ij} \\geq 0 &&i \\in F, j \\in C \\\\\n",
    "&y_{i} \\in \\{0,1\\} &&i \\in F \\\\\n",
    "\\end{align}"
   ]
  },
  {
   "cell_type": "code",
   "execution_count": null,
   "metadata": {},
   "outputs": [],
   "source": [
    "\"\"\"\n",
    "Build MA facility location model.\n",
    "\n",
    "### Keywords \n",
    "* `FLD` - FacilityLocationData\n",
    "### Returns\n",
    "* JuMP.Model representation of MA's mass vaccination site problem\n",
    "\"\"\"\n",
    "function build_model(FLD::FacilityLocationData)\n",
    "    m = JuMP.Model(Gurobi.Optimizer)\n",
    "    \n",
    "    @variables m begin \n",
    "        x[FLD.F, FLD.C] >= 0\n",
    "        y[FLD.F], Bin\n",
    "    end\n",
    "    # this is the same with:\n",
    "    # YOUR CODE HERE\n",
    "    # define variables in our old way\n",
    "    \n",
    "    @expression(m, budget, sum(FLD.K[i] * y[i] for i in FLD.F))\n",
    "    \n",
    "    @constraints m begin \n",
    "        budget <= FLD.B\n",
    "        num_loc, sum(y) <= FLD.L\n",
    "        capacity[i in FLD.F], sum(x[i,:]) <= FLD.P[i] * y[i]\n",
    "        demand[j in FLD.C], sum(x[:,j]) == FLD.r[j]\n",
    "    end\n",
    "    # this is the same with:\n",
    "    # YOUR CODE HERE\n",
    "    # define constraints in our old way\n",
    "    \n",
    "    \n",
    "    @objective(m, Min, sum(FLD.d[(j,i)] * x[i,j] for i in FLD.F for j in FLD.C))\n",
    "                                        \n",
    "    return m\n",
    "end"
   ]
  },
  {
   "cell_type": "code",
   "execution_count": null,
   "metadata": {},
   "outputs": [],
   "source": [
    "#--- try it out!\n",
    "m = build_model(FLD)"
   ]
  },
  {
   "cell_type": "markdown",
   "metadata": {},
   "source": [
    "### 2.3 Solve model\n",
    "\n",
    "Let's build a function to solve our model. Then we can explore and interpret our optimal solution."
   ]
  },
  {
   "cell_type": "code",
   "execution_count": null,
   "metadata": {},
   "outputs": [],
   "source": [
    "\"\"\"\n",
    "Solve a mass COVID vaccination facility location model \n",
    "\n",
    "### Keywords \n",
    "* `model` - the model\n",
    "### Returns \n",
    "* termination status\n",
    "* objective value\n",
    "* optimal solution (x, y)\n",
    "\"\"\"\n",
    "function solve_model(model::JuMP.Model)\n",
    "    JuMP.optimize!(model)\n",
    "    term_status = JuMP.termination_status(model)\n",
    "    if term_status == MOI.OPTIMAL\n",
    "        obj = JuMP.objective_value(model)\n",
    "        x_val = JuMP.value.(model[:x])\n",
    "        y_val = JuMP.value.(model[:y])\n",
    "        #JuMP.value(model[:budget])\n",
    "        return term_status, obj, (x_val, y_val)\n",
    "    end\n",
    "    return term_status, nothing, nothing\n",
    "end\n",
    "# this function is looking the other way while we talk about type stability..."
   ]
  },
  {
   "cell_type": "code",
   "execution_count": null,
   "metadata": {},
   "outputs": [],
   "source": [
    "ts, obj, (x_val, y_val) = solve_model(m);"
   ]
  },
  {
   "cell_type": "markdown",
   "metadata": {},
   "source": [
    "### 2.4 Put it all together\n",
    "\n",
    "Let's see our three-line script in action :-)"
   ]
  },
  {
   "cell_type": "code",
   "execution_count": null,
   "metadata": {},
   "outputs": [],
   "source": [
    "F = FacilityLocationData(population_data_path, facility_data_path)\n",
    "m = build_model(F)\n",
    "ts, obj, sol = solve_model(m);"
   ]
  },
  {
   "cell_type": "markdown",
   "metadata": {},
   "source": [
    "## 3. Analyze outputs\n",
    "\n",
    "There are a few scenarios where our 3-line script is going to save us a lot of trouble:\n",
    "* Different (but very similar) datasets - e.g., repeat for all 50 states, not just MA\n",
    "* Sensitivity analysis\n",
    "\n",
    "### Exercise\n",
    "Let's do a little bit of the latter. We will plot the effect of budget on total distance traveled by all residents to get their vaccines. Fix the number of facilities at 20."
   ]
  },
  {
   "cell_type": "code",
   "execution_count": 31,
   "metadata": {},
   "outputs": [],
   "source": [
    "budget = [3 + i * .2 for i in 0:10] .* 10^6\n",
    "NB = length(budget)\n",
    "dist = Float64[NaN for _ in 1:NB]\n",
    "\n",
    "for i in 1:NB\n",
    "    F = FacilityLocationData(population_data_path, facility_data_path, 20, budget[i])\n",
    "    \n",
    "    ##### YOUR CODE HERE\n",
    "    \n",
    "end\n"
   ]
  },
  {
   "cell_type": "code",
   "execution_count": null,
   "metadata": {
    "scrolled": true
   },
   "outputs": [],
   "source": [
    "scatter(budget, dist, ylab=\"Total distance traveled\", xlab=\"Budget\", legend=false)"
   ]
  },
  {
   "cell_type": "markdown",
   "metadata": {},
   "source": [
    "Check: is the distance decreasing as budget increases?"
   ]
  },
  {
   "cell_type": "markdown",
   "metadata": {},
   "source": [
    "# Appendix\n",
    "\n",
    "Here's how the facility data was simulated."
   ]
  },
  {
   "cell_type": "code",
   "execution_count": 33,
   "metadata": {},
   "outputs": [],
   "source": [
    "# using Pkg; Pkg.add(\"Distributions\")\n",
    "using Distributions, Random\n",
    "Random.seed!(47)\n",
    "pop_vec = population_data[:, \"population\"]\n",
    "num_facilities = 50\n",
    "\n",
    "# distributions\n",
    "dist_lat = Normal.(population_data[:,\"latitude\"], 0.05)\n",
    "dist_lon = Normal.(population_data[:, \"longitude\"], 0.05)\n",
    "dist_cap = Normal(100, 10)\n",
    "dist_fc = Normal(1e3, 100)\n",
    "\n",
    "# locations (who knows if these are even in MA? on land??? oh well!)\n",
    "fac_lat = rand.(dist_lat)\n",
    "fac_lon = rand.(dist_lon)\n",
    "\n",
    "# parameters\n",
    "P = max.(round.(pop_vec .* 10 .+ rand(dist_cap)), 0)\n",
    "K = pop_vec .* 10 .+ rand(dist_fc)\n",
    "\n",
    "# facility IDs\n",
    "facility_id = \"fac\" .* string.([i for i in 1:length(fac_lat)])\n",
    "\n",
    "# format into a CSV\n",
    "facilities = DataFrame(latitude = fac_lat, longitude = fac_lon, capacity = P, fixed_cost = K, facility_id = facility_id)\n",
    "fac_idx = StatsBase.sample(1:nrow(facility_data), num_facilities, replace=false)\n",
    "facilities = facilities[fac_idx, :]  \n",
    "CSV.write(joinpath(\"data\", \"formatted\", \"facilities.csv\"), facilities);"
   ]
  },
  {
   "cell_type": "code",
   "execution_count": 34,
   "metadata": {},
   "outputs": [],
   "source": []
  }
 ],
 "metadata": {
  "kernelspec": {
   "display_name": "Julia 1.9.3",
   "language": "julia",
   "name": "julia-1.9"
  },
  "language_info": {
   "file_extension": ".jl",
   "mimetype": "application/julia",
   "name": "julia",
   "version": "1.9.3"
  }
 },
 "nbformat": 4,
 "nbformat_minor": 2
}
