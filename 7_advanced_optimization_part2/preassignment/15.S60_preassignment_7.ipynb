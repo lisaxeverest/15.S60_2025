{
 "cells": [
  {
   "attachments": {},
   "cell_type": "markdown",
   "metadata": {},
   "source": [
    "# Preassignment"
   ]
  },
  {
   "attachments": {},
   "cell_type": "markdown",
   "metadata": {},
   "source": [
    "Please confirm your installation of the necessary packages by running the following code.  If everything is installed correctly, the cells will not have any output."
   ]
  },
  {
   "cell_type": "markdown",
   "metadata": {},
   "source": [
    "### 1. Package installation"
   ]
  },
  {
   "cell_type": "code",
   "execution_count": 3,
   "metadata": {},
   "outputs": [],
   "source": [
    "using MosekTools, Mosek, Convex, JuMP, Ipopt, Images, DelimitedFiles, Gadfly, CSV"
   ]
  },
  {
   "cell_type": "markdown",
   "metadata": {},
   "source": [
    "### 2. Mosek Solver"
   ]
  },
  {
   "cell_type": "code",
   "execution_count": 11,
   "metadata": {},
   "outputs": [],
   "source": [
    "m = Model(optimizer_with_attributes(Mosek.Optimizer, MOI.Silent() => true))\n",
    "@variable(m, x >= 0)\n",
    "@objective(m, Min, (x-1)^2)\n",
    "optimize!(m)\n",
    "@assert(abs(value(x)-1) < 1e-6)"
   ]
  },
  {
   "cell_type": "markdown",
   "metadata": {},
   "source": [
    "### 3. Ipopt Solver"
   ]
  },
  {
   "cell_type": "code",
   "execution_count": 9,
   "metadata": {},
   "outputs": [],
   "source": [
    "m = Model(optimizer_with_attributes(Ipopt.Optimizer, MOI.Silent() => true))\n",
    "@variable(m, x >= 0)\n",
    "@objective(m, Min, (x-1)^2)\n",
    "optimize!(m)\n",
    "@assert(abs(value(x)-1) < 1e-6)"
   ]
  }
 ],
 "metadata": {
  "kernelspec": {
   "display_name": "Julia 1.11.2",
   "language": "julia",
   "name": "julia-1.11"
  },
  "language_info": {
   "file_extension": ".jl",
   "mimetype": "application/julia",
   "name": "julia",
   "version": "1.11.2"
  }
 },
 "nbformat": 4,
 "nbformat_minor": 4
}
