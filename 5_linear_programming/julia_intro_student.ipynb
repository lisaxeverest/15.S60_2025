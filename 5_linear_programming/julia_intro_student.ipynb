{
 "cells": [
  {
   "attachments": {},
   "cell_type": "markdown",
   "metadata": {},
   "source": [
    "# Introduction to Julia\n",
    "\n",
    "by Karl Zhu\n",
    "\n",
    "This notebook is an introduction to the Julia language and its commonly used IJulia/Jupyter notebook interface. It is based in part on past year's materials for this lecture:\n",
    "- 2024: ([Sean Lo and Zikai Xiong](https://github.com/angkoulouras/15.S60_2024/tree/main/5_linear_programming))\n",
    "- 2023: ([Haoyue Wang and Shuvomoy Das Gupta](https://github.com/alexschmid3/15.S60_2023/tree/main/6_linear_programming))\n",
    "- 2021: ([Irra Na and Lea Kapelevich](https://github.com/adelarue/cos_2021/blob/main/6%2B7_julia_and_jump/Intro%20to%20Julia-%20complete.ipynb))\n",
    "- 2018: ([Arthur Delarue](https://github.com/PhilChodrow/cos_2018/tree/master/6_julia_and_jump))\n",
    "- 2017: ([Sebastien Martin and Miles Lubin](https://philchodrow.github.io/cos_2017/5_julia_and_jump/intro-julia-jupyter.ipynb))"
   ]
  },
  {
   "attachments": {},
   "cell_type": "markdown",
   "metadata": {},
   "source": [
    "![](figures/founders.png)"
   ]
  },
  {
   "attachments": {},
   "cell_type": "markdown",
   "metadata": {},
   "source": [
    "\n",
    "#### 2009: \n",
    "Stefan Karpinski is frustrated while developing a network simulation tool.\n",
    "\n",
    "August 2009: Karpinski speaks to Viral Shah \n",
    "\n",
    "Development begins at MIT.\n",
    "\n",
    "Goals for the Julia language: \\\n",
    "Combine the pros of iron out the cons of each of the scientific computing languages into one open sourced, liberally-licensed language \\\n",
    "Efficiency and speed \\\n",
    "Simplicity \\\n",
    "Parallel computing simplified \\\n",
    "Dynamism\n",
    "\n",
    "#### 2012\n",
    "\n",
    "first public release with a liberal MIT license \\\n",
    "Julia v0.2.0 (now unmaintained)\n",
    "\n",
    "#### 2014\n",
    "\n",
    "second release: Julia v0.3.0\n",
    "\n",
    ".....\n",
    "\n",
    "#### Mar 2021\n",
    "\n",
    "Julia v1.6 released (new Long-Term Stable version)\n",
    "\n",
    "#### Nov 2021\n",
    "\n",
    "Julia v1.7\n",
    "\n",
    "#### Aug 2022\n",
    "\n",
    "Julia v1.8\n",
    "\n",
    "#### May 2023\n",
    "\n",
    "Julia v1.9\n",
    "\n",
    "#### Dec 2023\n",
    "\n",
    "Julia v1.10\n",
    "\n",
    "#### Oct 2024\n",
    "\n",
    "Julia v1.11"
   ]
  },
  {
   "attachments": {},
   "cell_type": "markdown",
   "metadata": {},
   "source": [
    "## Why Julia?"
   ]
  },
  {
   "attachments": {},
   "cell_type": "markdown",
   "metadata": {},
   "source": [
    "From the [Julia website](https://julialang.org/):\n",
    "- Fast: Julia programs \"automatically compile to efficient native code via LLVM\", achieving close to C speeds with close to Python syntax! This allows it to solve the two-language problem in scientific computing.  \n",
    "- Dynamic: it is \"dynamically typed and feels like a scripting language\", and can be used interactively i.e. via the REPL.\n",
    "- Reproducible: you can \"recreate the same Julia environment every time, across platforms\" - very important for ensuring consistent results in scientific computing!\n",
    "- Composable: Julia uses [multiple dispatch](https://docs.julialang.org/en/v1/manual/methods/) which promotes writing safe and correct code.  \n",
    "\n",
    "For an OR PhD student:\n",
    "- **Fast and easy to code**: thanks to its Julia's JIT compiler, and dynamic-typed language.\n",
    "- **JuMP has excellent documentation and is currently well-maintained**. This is largely thanks to Oscar Dowson (https://github.com/odow) who is currently paid full-time to maintain and extend JuMP. \n",
    "\n",
    "In particular Julia is a MIT creation and JuMP was first developed by MIT ORC students Miles Lubin (current BDFL), Iain Dunning, and Joey Huchette."
   ]
  },
  {
   "attachments": {},
   "cell_type": "markdown",
   "metadata": {},
   "source": [
    "### 1) It's a **high-level** language with easy-to-use syntax:\n",
    "\n",
    "Easy to use and learn, with a similar syntax to Python/Matlab.\n",
    "It is possible to do complicated computations quickly.\n",
    "For example, Solving $Ax = b$ with $A = \\begin{pmatrix}\n",
    " 1 & 2 & 3\\\\ \n",
    " 2 & 1 & 2\\\\ \n",
    " 3 & 2 & 1\n",
    "\\end{pmatrix}$ and $b = \\begin{pmatrix}\n",
    " 1 \\\\ \n",
    " 1 \\\\ \n",
    " 1 \n",
    "\\end{pmatrix}$ is as simple as:"
   ]
  },
  {
   "cell_type": "code",
   "execution_count": null,
   "metadata": {},
   "outputs": [],
   "source": [
    "A = [1 2 3\n",
    "     2 1 2\n",
    "     3 2 1]\n",
    "\n",
    "b = [1,1,1]\n",
    "A \\ b"
   ]
  },
  {
   "attachments": {},
   "cell_type": "markdown",
   "metadata": {},
   "source": [
    "Many language features (`for`, `if`, `while`, `continue` keywords, indexing, list comprehensions and generator expressions) are similar to those in Python, so if you know Python you nearly know Julia! [Here's](https://docs.julialang.org/en/v1/manual/noteworthy-differences) a helpful page if you are coming from Python specifically (or other languages like R)."
   ]
  },
  {
   "attachments": {},
   "cell_type": "markdown",
   "metadata": {},
   "source": [
    "Also, it's interactive! We see this in action right now in our Jupyter notebook, but you could also launch an interactive Julia session in the REPL."
   ]
  },
  {
   "attachments": {},
   "cell_type": "markdown",
   "metadata": {},
   "source": [
    "### 2) It is fast!"
   ]
  },
  {
   "attachments": {},
   "cell_type": "markdown",
   "metadata": {},
   "source": [
    "A **high-performance** language:\n",
    "\n",
    "Julia is fast. Thanks to multiple dispatch, a strong type system, and just-in-time compilation, it can reach performance comparable to C and Fortran.\n",
    "\n",
    "(Note: this figure was taken from [Julia Micro-benchmarks](https://julialang.org/benchmarks/), which uses Julia 1.0 released in 2018 and e.g. Python 3.6.)\n",
    "\n",
    "![figures/Julia-benchmarks.png](figures/Julia-benchmarks.png)"
   ]
  },
  {
   "cell_type": "markdown",
   "metadata": {},
   "source": [
    "Julia's just-in-time compliation speeds up for loops. Here's a simple example comparing Julia vs Python:"
   ]
  },
  {
   "cell_type": "code",
   "execution_count": null,
   "metadata": {},
   "outputs": [],
   "source": [
    "# Julia \n",
    "function julia_nested_loops(n)\n",
    "    total = 0\n",
    "    for i in 1:n\n",
    "        for j in 1:n\n",
    "            total += i * j\n",
    "        end\n",
    "    end\n",
    "    return total\n",
    "end\n",
    "\n",
    "print(\"Julia execution time: \")\n",
    "@time julia_nested_loops(10000)  # Run with n = 10,000\n",
    "\n",
    "# vs Python\n",
    "using PyCall\n",
    "\n",
    "# Import Python's time module\n",
    "@pyimport time as py_time\n",
    "\n",
    "# Define the Python nested loop function in Julia\n",
    "py\"\"\"\n",
    "def python_nested_loops(n):\n",
    "    total = 0\n",
    "    for i in range(n):\n",
    "        for j in range(n):\n",
    "            total += i * j\n",
    "    return total\n",
    "\"\"\"\n",
    "\n",
    "# Measure execution time in Python\n",
    "start_time = py_time.time()\n",
    "py\"python_nested_loops\"(10000)\n",
    "end_time = py_time.time()\n",
    "println(\"Python execution time: \", end_time - start_time, \" seconds\")"
   ]
  },
  {
   "cell_type": "markdown",
   "metadata": {},
   "source": [
    "This is great as we don't need to worry about vectorizing the code; speeding up development as well as making for easier to read code."
   ]
  },
  {
   "attachments": {},
   "cell_type": "markdown",
   "metadata": {},
   "source": [
    "### 3) The Two-Language Problem"
   ]
  },
  {
   "attachments": {},
   "cell_type": "markdown",
   "metadata": {},
   "source": [
    "- Before Julia: you might have 1 easy, scripting, interactive language for prototyping and quick development, and 1 compiled language for performance-sensitive code. You might start with the scripting language and then have to transfer / rewrite your code to the compiled language. Some examples:\n",
    "    - Python --> Python + CPython for performance sensitive code\n",
    "    - Python --> Python's fast compiled libraries (e.g. numpy, scikit-learn, various ML libraries) with base Python as a \"glue\" for performance-sensitive code\n",
    "- Now you can start with Julia for your prototyping, and *stay in Julia* while optimizing it for fast performance!\n",
    "- (Optional: watch Julia co-founder Viral Shah talk about the two-language problem and how Julia solves it [here](https://www.youtube.com/watch?v=Cr3lPsRAFmY).)\n",
    "    "
   ]
  },
  {
   "attachments": {},
   "cell_type": "markdown",
   "metadata": {},
   "source": [
    "### 4) (the unreasonable effectiveness of) Multiple Dispatch"
   ]
  },
  {
   "attachments": {},
   "cell_type": "markdown",
   "metadata": {},
   "source": [
    "- In compiled languages like C and Fortran, one need to declare the type of each variable (e.g. Int, Float, Char...), so that the compiler can create efficient machine code for each function.\n",
    "- In interpreted languages like Python and MATLAB, we don't have to declare the type of variables. The type of the variables is computed at run time, at the same time as the value of the variables. (Slow)\n",
    "- Julia aims to bridge the two paradigms, by \"walking like Python and running like C\". It does not require type declaration (MATLAB-like syntax), but also creates efficient compiled machine codes.\n",
    "- The trick is: when a function is defined (without declaring variable types), Julia will create different \"methods\" that affiliated with this function, with different specifications of variable types. When a function is called and the types of all the arguments are given, the compiler will produce a method instance, which is the machine code of this specific choice of variable type. \n",
    "- (Optional: see this [talk](https://www.youtube.com/watch?v=kc9HwsxE1OY) on how it works as a substitute for object-oriented programming)\n"
   ]
  },
  {
   "cell_type": "code",
   "execution_count": null,
   "metadata": {},
   "outputs": [],
   "source": [
    "# When we write a function, it can have many \"methods\"\n",
    "+(1, 2)"
   ]
  },
  {
   "cell_type": "code",
   "execution_count": null,
   "metadata": {},
   "outputs": [],
   "source": [
    "methods(+)"
   ]
  },
  {
   "cell_type": "code",
   "execution_count": null,
   "metadata": {},
   "outputs": [],
   "source": [
    "function my_function(x)\n",
    "    println(\"Default output\")\n",
    "end\n",
    "\n",
    "function my_function(x::Int) # only called when x is an integer\n",
    "    println(\"You gave me an integer!\")\n",
    "end\n",
    "\n",
    "methods(my_function)"
   ]
  },
  {
   "cell_type": "code",
   "execution_count": null,
   "metadata": {},
   "outputs": [],
   "source": [
    "my_function(1.0)\n",
    "my_function(1)\n",
    "my_function(\"ORC\")"
   ]
  },
  {
   "cell_type": "code",
   "execution_count": null,
   "metadata": {},
   "outputs": [],
   "source": [
    "# you can check which method will be dispatched to with @which\n",
    "@which +(1, 2)"
   ]
  },
  {
   "attachments": {},
   "cell_type": "markdown",
   "metadata": {},
   "source": [
    "### 5) Type stability\n",
    "\n",
    "- A function is type stable if the types of all arguments is enough information for the compiler to infer the type of every variable and expression within the function.\n",
    "- If a function is type stable, Julia is able to create efficient machine codes.\n",
    "- If a function is not type stable, the compiler will produce machine code full of “if”s, covering all options of what the type of each variable could be. This is comprehensive (you still get correct code) but the resulting machine code is slow.\n"
   ]
  },
  {
   "cell_type": "code",
   "execution_count": null,
   "metadata": {},
   "outputs": [],
   "source": [
    "function add(x::Number, y::Number)\n",
    "    z = x + y\n",
    "    return z\n",
    "end\n",
    "# Number is a abstract type which constains many possible concrete types, such as Int8, Int64, Float64...\n",
    "# If type of x is Float64 and type of y is Int8, then type of z is Float64 -- this is because we saw earlier that + has many methods\n",
    "# This function is type stable."
   ]
  },
  {
   "cell_type": "code",
   "execution_count": null,
   "metadata": {},
   "outputs": [],
   "source": [
    "function largest(a::Float64, b::Int64)\n",
    "    if a > b\n",
    "        c = a\n",
    "    else\n",
    "        c = b    \n",
    "    end\n",
    "    return c\n",
    "end\n",
    "# If a>b, the type of c is Float64\n",
    "# If a<=b, the type of c is Int64\n",
    "# The type of c depends on not only the types of a and b, but also the values of a and b.\n",
    "# This function is not type stable\n",
    "\n",
    "# we can make it type stable:\n",
    "function largest_stable(a::Float64, b::Int64)\n",
    "    b = b*1.0\n",
    "    if a > b\n",
    "        c = a\n",
    "    else\n",
    "        c = b    \n",
    "    end\n",
    "    return c\n",
    "end"
   ]
  },
  {
   "cell_type": "code",
   "execution_count": null,
   "metadata": {},
   "outputs": [],
   "source": [
    "# We can make it more generally type stable (not just Floats and Ints) by using promote():\n",
    "function largest_stable_new(a::Number, b::Number)\n",
    "    a, b = promote(a, b)\n",
    "    if a > b\n",
    "        return a\n",
    "    else \n",
    "        return b\n",
    "    end\n",
    "end"
   ]
  },
  {
   "cell_type": "code",
   "execution_count": null,
   "metadata": {},
   "outputs": [],
   "source": [
    "@show largest_stable_new(1, 0.5)\n",
    "@show largest_stable_new(1, 1.5)\n",
    "@show largest_stable_new(1, 1//2)\n",
    ";"
   ]
  },
  {
   "attachments": {},
   "cell_type": "markdown",
   "metadata": {},
   "source": [
    "### Example: find entering variable with minimum reduced cost\n",
    "\n",
    "Complete `find_entering_var` below, which returns the minimum reduced cost and index of the entering variable (with the minimum reduced cost), inside an iteration of the simplex method. \n",
    "\n",
    "If no variable has negative reduced cost, we will simply return zeros for `min_rc` and `min_idx`. If multiple variables have the lowest reduced cost, we will return the last of these.\n",
    "\n",
    "Remember the vector of reduced costs is given by:\n",
    "$$\n",
    "rc = c_N - A'\\pi\n",
    "$$\n",
    "and the $i^{th}$ reduced cost is\n",
    "$$\n",
    "rc_i = c_i - A_i' \\pi\n",
    "$$\n",
    "where $A_i$ is the $i^{th}$ column of $A$."
   ]
  },
  {
   "cell_type": "code",
   "execution_count": null,
   "metadata": {},
   "outputs": [],
   "source": [
    "using LinearAlgebra\n",
    "function find_entering_var(\n",
    "    A::Matrix{Float64}, \n",
    "    c::Vector{Float64}, \n",
    "    pi::Vector{Float64}, \n",
    "    var_status::Vector{Int}, \n",
    ")\n",
    "    # var_status[i]=1 if i in the base, o.w. var_status[i]=0\n",
    "    min_rc = 0\n",
    "    min_idx = 0\n",
    "    for k in eachindex(var_status)\n",
    "        # only check nonbasic variables\n",
    "        if iszero(var_status[k])\n",
    "            rc = c[k] - dot(A[:, k], pi)\n",
    "            if rc < min_rc\n",
    "                min_rc = rc\n",
    "                min_idx = k\n",
    "            end\n",
    "        end\n",
    "    end\n",
    "    return (min_rc, min_idx)\n",
    "end"
   ]
  },
  {
   "cell_type": "code",
   "execution_count": null,
   "metadata": {},
   "outputs": [],
   "source": [
    "# test your function by running this cell\n",
    "\n",
    "using Random\n",
    "function make_data(T::Type)\n",
    "Random.seed!(1)\n",
    "    basic_idxs = [2, 4, 6]\n",
    "    A = T[3 2 1 2 1 0 0; 1 1 1 1 0 1 0; 4 3 3 4 0 0 1]\n",
    "    B = A[:, basic_idxs]\n",
    "    B_inv = inv(B) # note this would never happen inside the algorithm, we always have B_inv available\n",
    "    b = T[225, 117, 420]\n",
    "    c = -T[19, 13, 12, 17, 0, 0, 0]\n",
    "    c_b = c[basic_idxs]\n",
    "    x_b = B_inv * b\n",
    "    var_status = [0, 1, 0, 2, 0, 3]\n",
    "    pi = B_inv' * c_b\n",
    "    return (A, b, c, B_inv, pi, var_status, basic_idxs)\n",
    "end\n",
    "(A, b, c, B_inv, pi, var_status, basic_idxs) = make_data(Float64)\n",
    "\n",
    "find_entering_var(A, c, pi, var_status) # should be (-1.5, 1)"
   ]
  },
  {
   "attachments": {},
   "cell_type": "markdown",
   "metadata": {},
   "source": [
    "- We can set type template T to allow for different types.\n",
    "- Real is an abstract type that includes Float32 and Float64"
   ]
  },
  {
   "cell_type": "code",
   "execution_count": null,
   "metadata": {},
   "outputs": [],
   "source": [
    "function find_entering_var(\n",
    "    A::Matrix{T}, \n",
    "    c::Vector{T}, \n",
    "    pi::Vector{T}, \n",
    "    var_status::Vector{Int},\n",
    ") where {T <: Real}\n",
    "    min_rc = 0\n",
    "    min_idx = 0\n",
    "    for k in eachindex(var_status)\n",
    "        # only check nonbasic variables\n",
    "        if iszero(var_status[k])         \n",
    "            rc = c[k] - dot(A[:, k], pi)\n",
    "            if rc < min_rc\n",
    "                min_rc = rc\n",
    "                min_idx = k\n",
    "            end\n",
    "        end\n",
    "    end\n",
    "    return (min_rc, min_idx)\n",
    "end"
   ]
  },
  {
   "cell_type": "code",
   "execution_count": null,
   "metadata": {},
   "outputs": [],
   "source": [
    "# let's generate some rational data\n",
    "(A, b, c, B_inv, pi, var_status, basic_idxs) = make_data(Rational{Int})\n",
    "@show A\n",
    "@show b\n",
    "@show c\n",
    ";"
   ]
  },
  {
   "cell_type": "code",
   "execution_count": null,
   "metadata": {},
   "outputs": [],
   "source": [
    "# test that this \"just works\" by running this cell\n",
    "(min_rc, min_idx) = find_entering_var(A, c, pi, var_status) # should be (-3//2, 1)"
   ]
  },
  {
   "attachments": {},
   "cell_type": "markdown",
   "metadata": {},
   "source": [
    "#### Let's check if it is type stable"
   ]
  },
  {
   "cell_type": "code",
   "execution_count": null,
   "metadata": {},
   "outputs": [],
   "source": [
    "@code_warntype find_entering_var(A, c, pi, var_status)"
   ]
  },
  {
   "attachments": {},
   "cell_type": "markdown",
   "metadata": {},
   "source": [
    "#### We can make it type stable by changing the type of min_rc at initialization"
   ]
  },
  {
   "cell_type": "code",
   "execution_count": null,
   "metadata": {},
   "outputs": [],
   "source": [
    "function find_entering_var(\n",
    "    A::Matrix{T}, \n",
    "    c::Vector{T}, \n",
    "    pi::Vector{T}, \n",
    "    var_status::Vector{Int}\n",
    ") where {T <: Real}\n",
    "    min_rc = zero(T) # <----------------\n",
    "    min_idx = 0\n",
    "    for k in eachindex(var_status)\n",
    "        # only check nonbasic variables\n",
    "        if iszero(var_status[k])\n",
    "            rc = c[k] - dot(A[:, k], pi)\n",
    "            if rc < min_rc\n",
    "                min_rc = rc\n",
    "                min_idx = k\n",
    "            end\n",
    "        end\n",
    "    end\n",
    "    return (min_rc, min_idx)\n",
    "end\n",
    "\n",
    "@code_warntype find_entering_var(A, c, pi, var_status)"
   ]
  },
  {
   "attachments": {},
   "cell_type": "markdown",
   "metadata": {},
   "source": [
    "For those interested, read more [here](https://arxiv.org/abs/2109.01950)."
   ]
  },
  {
   "attachments": {},
   "cell_type": "markdown",
   "metadata": {},
   "source": [
    "## Exercise (optional)\n",
    "Complete the function `find_leaving_var` to return `(min_ratio, min_idx)`. I.e. the minimum and the minimizer of:\n",
    "$$\n",
    "\\min_{k: e_k' B^{-1} A_i > 0} \\frac{e_k' B^{-1}b}{e_k' B^{-1} A_i}\n",
    "$$\n",
    "If $ e_k' B^{-1} A_i \\leq 0 $ for all $k$, return (0, Inf). Assume you are provided the vectors `B_inv_A_i = B \\ A_i`, and `x_b = B \\ b`, as well as a list of basic indices as input.\n",
    "\n",
    "Test for correctness and type stability by running the box below. "
   ]
  },
  {
   "cell_type": "code",
   "execution_count": null,
   "metadata": {},
   "outputs": [],
   "source": [
    "# hint:\n",
    "@show typeof(Inf)\n",
    "@show typeof(Float64(Inf))\n",
    "@show typeof(Rational{Int}(Inf))"
   ]
  },
  {
   "cell_type": "code",
   "execution_count": null,
   "metadata": {},
   "outputs": [],
   "source": [
    "function find_leaving_var(x_b::Vector{T}, B_inv_A_i::Vector{T}, basic_idxs::Vector{Int}) where {T <: Real}\n",
    "    #TODO: min_ratio = ... # initialize to make the function type stable.\n",
    "    min_idx = 0\n",
    "    for k in eachindex(B_inv_A_i)\n",
    "        if B_inv_A_i[k] > 0\n",
    "            #TODO: ratio = ...\n",
    "            if ratio < min_ratio\n",
    "                min_ratio = ratio\n",
    "                min_idx = k\n",
    "            end\n",
    "        end\n",
    "    end\n",
    "    return (min_ratio, min_idx)\n",
    "end"
   ]
  },
  {
   "cell_type": "code",
   "execution_count": null,
   "metadata": {},
   "outputs": [],
   "source": [
    "# use our data and entering variable from before\n",
    "(A, b, c, B_inv, pi, var_status, basic_idxs) = make_data(Float64)\n",
    "(_, entering_idx) = find_entering_var(A, c, pi, var_status)\n",
    "x_b = B_inv * b\n",
    "B_inv_A_i = B_inv * A[:, entering_idx]\n",
    "\n",
    "\n",
    "(min_ratio, leaving_idx) = find_leaving_var(x_b, B_inv_A_i, basic_idxs) # should be (14.999999999999993, 1)"
   ]
  },
  {
   "cell_type": "code",
   "execution_count": null,
   "metadata": {},
   "outputs": [],
   "source": [
    "@code_warntype find_leaving_var(x_b, B_inv_A_i, basic_idxs)"
   ]
  },
  {
   "attachments": {},
   "cell_type": "markdown",
   "metadata": {},
   "source": [
    "## Why not Julia?"
   ]
  },
  {
   "attachments": {},
   "cell_type": "markdown",
   "metadata": {},
   "source": [
    "If Julia is so awesome, why do people not use it? Here are some (crowd-sourced) reasons:\n",
    "- Hard to write: clunky syntax, type stability restrictions\n",
    "- Hard to debug: reading long, confusing stack traces\n",
    "- Slow startup\n",
    "- No inheritance from concrete types\n",
    "- Immature package ecosystem\n",
    "- Immature online resources / documentation"
   ]
  },
  {
   "attachments": {},
   "cell_type": "markdown",
   "metadata": {},
   "source": [
    "### 1) Hard to write / 2) Hard to debug"
   ]
  },
  {
   "attachments": {},
   "cell_type": "markdown",
   "metadata": {},
   "source": [
    "Good news here is that stack traces especially in Julia 1.10.0 are a lot friendlier than previous versions of Julia:\n",
    "- [Easier error messages](https://julialang.org/blog/2023/12/julia-1.10-highlights/#new_parser_written_in_julia)\n",
    "- [Less verbose stacktraces](https://julialang.org/blog/2023/12/julia-1.10-highlights/#improvements_in_stacktrace_rendering)"
   ]
  },
  {
   "attachments": {},
   "cell_type": "markdown",
   "metadata": {},
   "source": [
    "### 3) Slow startup\n",
    "\n",
    "It's a common criticism of Julia that because packages have to be compiled when using them, it might take a really long time to set up your working environment. This time adds up whenever you restart your Julia session regardless of the reason (a hung program, clearing the global namespace etc.) This is known as the \"Time to First ___\" problem (TTFX). \n",
    "\n",
    "Good news is that Julia 1.9 onwards introduced the idea of [package extensions](https://julialang.org/blog/2023/04/julia-1.9-highlights/#package_extensions) and [caching native code](https://julialang.org/blog/2023/04/julia-1.9-highlights/#caching_of_native_code), and Julia 1.10 further pushed the envelope in [package load time](https://julialang.org/blog/2023/12/julia-1.10-highlights/#package_load_time_improvements)! Hopefully this means that your TTFX problem is now within an acceptable range whenever you restart the kernel.\n",
    "\n",
    "There is also Revise.jl, for people who develop and test their own Julia packages (similar to the idea of \"editable installs\" in Python), which reduces the need to restart the Julia kernel everytime you make a change to your package."
   ]
  },
  {
   "attachments": {},
   "cell_type": "markdown",
   "metadata": {},
   "source": [
    "Another common criticism is the \"compilation time\" for when a function is run for the first time: `TODO`"
   ]
  },
  {
   "attachments": {},
   "cell_type": "markdown",
   "metadata": {},
   "source": [
    "### 4) No inheritance from concrete types"
   ]
  },
  {
   "attachments": {},
   "cell_type": "markdown",
   "metadata": {},
   "source": [
    "In Python you might be used to an object-oriented paradigm: for example, defining a `Person` class with certain common attributes (age, nationality) and then defining subclasses such as `Student` and `Teacher` with class-specific attributes and methods. When trying to replicate the same design in Julia you run into problems:"
   ]
  },
  {
   "cell_type": "code",
   "execution_count": null,
   "metadata": {},
   "outputs": [],
   "source": [
    "struct Person\n",
    "    age::Int\n",
    "    nationality::String\n",
    "end\n",
    "\n",
    "struct Student <: Person # <: is the subtyping relation\n",
    "    grade::String\n",
    "end"
   ]
  },
  {
   "attachments": {},
   "cell_type": "markdown",
   "metadata": {},
   "source": [
    "The truth here is that there is a conscious design in Julia not to allow these \"types\" to \"subclass each other\". Specifically, `Person` is a concrete type which cannot be subtyped. Julia forces you to choose one of the two options:\n",
    "- Have an abstract `Person` which cannot be instantiated but can be subtyped;\n",
    "- Have a concrete `Person` type which can be instantiated but cannot be subtyped further by another user-defined type.\n",
    "\n",
    "The benefit of making you choose is that once you define a concrete type (e.g. `Student`), the methods that take a `Student` instance you write cannot be overwritten by someone else who uses your code. Julia is a language which favours composition over inheritance and shallow inheritance trees, which does take getting used to coming from e.g. Python, but it gets intuitive!\n",
    "\n",
    "Further reading:\n",
    "- [Abstract vs. concrete types](https://docs.julialang.org/en/v1/manual/types)\n",
    "- a [Discourse post](https://discourse.julialang.org/t/method-inheritance-the-julian-way/67198) on Julian inheritance patterns"
   ]
  },
  {
   "attachments": {},
   "cell_type": "markdown",
   "metadata": {},
   "source": [
    "### 5) Immature package ecosystem"
   ]
  },
  {
   "attachments": {},
   "cell_type": "markdown",
   "metadata": {},
   "source": [
    "Compared to a language like Python, it is true that Julia has only been around for much less time, and \"mega-packages\" (packages in Python which are so commonly used and widely documented they are associated with Python itself, such as `numpy` and `pandas`) don't exist to the same scale in Julia. However, the flip side is that Julia is a new and fast-growing community, and packages are being created / ported from other languages at a very fast pace!\n",
    "\n",
    "Here are some comprehensive packages for whatever you might want to do in scientific computing:\n",
    "- Statistics: `StatsBase.jl` and `Statistics.jl`\n",
    "- Machine learning: `MLJ.jl`, `Flux.jl` and `Knet.jl` for deep learning\n",
    "- Data tools: `DataFrames.jl`, `CSV.jl`, `Arrow.jl` and `Spark.jl` for big data\n",
    "- Data visualization: `Plots.jl`, `Makie.jl`\n",
    "- Optimization: `JuMP.jl` and `Optim.jl`\n",
    "- Differential equations: `DifferentialEquations.jl`"
   ]
  },
  {
   "attachments": {},
   "cell_type": "markdown",
   "metadata": {},
   "source": [
    "### 6) Immature online resources / documentation"
   ]
  },
  {
   "attachments": {},
   "cell_type": "markdown",
   "metadata": {},
   "source": [
    "Here are some places to learn more about Julia if you are interested:\n",
    "- The official Julia documentation is a good place to start; in particular, [Performance tips](https://docs.julialang.org/en/v1/manual/performance-tips) can help you quickly debug slow parts of your code, and the [Style guide](https://docs.julialang.org/en/v1/manual/style-guide) points you toward the Julian way of coding.\n",
    "- The [Discourse](https://discourse.julialang.org) page is a good page for Julia FAQs (the Julia-specific version of StackOverflow)\n",
    "- The [YouTube](https://youtube.com/@TheJuliaLanguage?si=-KIkpckbzjIlM2R7) channel contains talks for various topics in Julia (usually JuliaCon proceedings) where you can learn more about a specific part of the language / specific package\n",
    "- The Slack channel (link on Julia's homepage) gets you access to the Julia community, where you can ask questions, discuss Julia in general, see what's going on at JuliaCon etc."
   ]
  }
 ],
 "metadata": {
  "kernelspec": {
   "display_name": "Julia 1.9.3",
   "language": "julia",
   "name": "julia-1.9"
  },
  "language_info": {
   "file_extension": ".jl",
   "mimetype": "application/julia",
   "name": "julia",
   "version": "1.9.3"
  }
 },
 "nbformat": 4,
 "nbformat_minor": 2
}
