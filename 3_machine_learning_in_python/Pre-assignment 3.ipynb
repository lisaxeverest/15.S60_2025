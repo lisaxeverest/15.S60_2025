{
 "cells": [
  {
   "cell_type": "markdown",
   "id": "53083361",
   "metadata": {},
   "source": [
    "### Install Packages"
   ]
  },
  {
   "cell_type": "code",
   "execution_count": null,
   "id": "216032bb",
   "metadata": {},
   "outputs": [],
   "source": [
    "!pip3 install -r requirements.txt"
   ]
  },
  {
   "cell_type": "markdown",
   "id": "b0657822",
   "metadata": {},
   "source": [
    "### Load Packages"
   ]
  },
  {
   "cell_type": "code",
   "execution_count": null,
   "id": "4dce9246",
   "metadata": {},
   "outputs": [],
   "source": [
    "import matplotlib, numpy, shap, missingno, seaborn, sklearn, xgboost, lightgbm, tpot\n",
    "import pandas as pd\n",
    "from sklearn.model_selection import train_test_split\n",
    "from sklearn.linear_model import LinearRegression\n",
    "from sklearn.metrics import r2_score"
   ]
  },
  {
   "cell_type": "markdown",
   "id": "73188c4b",
   "metadata": {},
   "source": [
    "### Load Data"
   ]
  },
  {
   "cell_type": "code",
   "execution_count": null,
   "id": "3942fd99",
   "metadata": {},
   "outputs": [],
   "source": [
    "## Load the data\n",
    "listings = pd.read_csv('./data/listings_with_amenities.csv')\n",
    "listings['price'] = pd.to_numeric(listings['price'].apply(lambda x: x[1:]), errors='coerce')\n",
    "listings = listings[['accommodates', 'price']].dropna()\n",
    "print(listings)"
   ]
  },
  {
   "cell_type": "code",
   "execution_count": null,
   "id": "849234c6",
   "metadata": {},
   "outputs": [],
   "source": [
    "X = listings.drop('price', axis=1)\n",
    "y = listings['price']\n",
    "X_train, X_test, y_train, y_test = train_test_split(X, y, test_size=0.2, random_state=42)\n",
    "\n",
    "print(X_train)"
   ]
  },
  {
   "cell_type": "markdown",
   "id": "c3db37ee",
   "metadata": {},
   "source": [
    "### Train Simple Model"
   ]
  },
  {
   "cell_type": "code",
   "execution_count": null,
   "id": "3b39ece3",
   "metadata": {},
   "outputs": [],
   "source": [
    "model = LinearRegression()\n",
    "model.fit(X_train, y_train)"
   ]
  },
  {
   "cell_type": "code",
   "execution_count": null,
   "id": "f70c999d",
   "metadata": {},
   "outputs": [],
   "source": [
    "y_pred = model.predict(X_test)\n",
    "r2 = r2_score(y_test, y_pred)\n",
    "print(r2)"
   ]
  }
 ],
 "metadata": {
  "hide_input": false,
  "kernelspec": {
   "display_name": "Python 3",
   "language": "python",
   "name": "python3"
  },
  "language_info": {
   "codemirror_mode": {
    "name": "ipython",
    "version": 3
   },
   "file_extension": ".py",
   "mimetype": "text/x-python",
   "name": "python",
   "nbconvert_exporter": "python",
   "pygments_lexer": "ipython3",
   "version": "3.8.5"
  }
 },
 "nbformat": 4,
 "nbformat_minor": 5
}
