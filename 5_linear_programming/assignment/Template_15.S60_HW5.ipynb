{
 "cells": [
  {
   "cell_type": "code",
   "execution_count": 4,
   "metadata": {},
   "outputs": [],
   "source": [
    "using Gurobi, JuMP\n",
    "using CSV, DataFrames"
   ]
  },
  {
   "attachments": {},
   "cell_type": "markdown",
   "metadata": {},
   "source": [
    "## Read CSV"
   ]
  },
  {
   "cell_type": "code",
   "execution_count": null,
   "metadata": {},
   "outputs": [],
   "source": [
    "data = CSV.read(\"sudoku_inputs.csv\", DataFrame)\n",
    "data"
   ]
  },
  {
   "attachments": {},
   "cell_type": "markdown",
   "metadata": {},
   "source": [
    "## Create model"
   ]
  },
  {
   "cell_type": "code",
   "execution_count": null,
   "metadata": {},
   "outputs": [],
   "source": [
    "model = Model(Gurobi.Optimizer)"
   ]
  },
  {
   "cell_type": "code",
   "execution_count": null,
   "metadata": {},
   "outputs": [],
   "source": [
    "## Variables\n",
    "# Hint: you can make your variables Integer as follows:\n",
    "# @variable(model, x[1:9, 1:9] ≥ 0, Int)\n",
    "# Hint: you can make your variables Binary as follows:\n",
    "# @variable(model, x[1:9, 1:9, 1:9] ≥ 0, Bin)\n",
    "# What is the best representation? Depends on the sudoku-specific constraints below"
   ]
  },
  {
   "cell_type": "code",
   "execution_count": null,
   "metadata": {},
   "outputs": [],
   "source": [
    "## Sudoku-specific constraints\n",
    "# Hint: you should use the @constraint macro"
   ]
  },
  {
   "cell_type": "code",
   "execution_count": null,
   "metadata": {},
   "outputs": [],
   "source": [
    "## Given Sudoku inputs:\n",
    "# Hint: you should use @constraint to constrain the entries in certain rows and columns to be equal to a value\n",
    "for r in eachrow(data)\n",
    "    println(\"row $(r.row) column $(r.col) has $(r.val)\")\n",
    "    # @constraint(model, ...)\n",
    "end"
   ]
  },
  {
   "attachments": {},
   "cell_type": "markdown",
   "metadata": {},
   "source": [
    "### Model explanation\n",
    "\n",
    "`TODO`: insert your explanation here."
   ]
  },
  {
   "attachments": {},
   "cell_type": "markdown",
   "metadata": {},
   "source": [
    "## Solve model, read outputs"
   ]
  },
  {
   "cell_type": "code",
   "execution_count": null,
   "metadata": {},
   "outputs": [],
   "source": [
    "optimize!(model)"
   ]
  },
  {
   "attachments": {},
   "cell_type": "markdown",
   "metadata": {},
   "source": [
    "## Visualization"
   ]
  },
  {
   "cell_type": "code",
   "execution_count": 11,
   "metadata": {},
   "outputs": [],
   "source": [
    "using Plots"
   ]
  },
  {
   "cell_type": "code",
   "execution_count": null,
   "metadata": {},
   "outputs": [],
   "source": [
    "function visualize_sudoku_inputs(\n",
    "    data::DataFrame,\n",
    "    ;\n",
    "    show_solved_data::Bool = false,\n",
    "    solved_data::Union{DataFrame, Nothing} = nothing,\n",
    ")\n",
    "    # data should be in the format provided in sudoku_inputs.csv\n",
    "    # solved_data should be in the same format, but for non-provided inputs\n",
    "    p = Plots.plot(\n",
    "        xlim = (-0.5, 9.5), ylim = (-0.5, 9.5), \n",
    "        xaxis = false, yaxis = false,\n",
    "        aspect_ratio = :equal,\n",
    "    )\n",
    "    for i in 0:9\n",
    "        if i in [0, 3, 6, 9]\n",
    "            lw = 2\n",
    "        else\n",
    "            lw = 1\n",
    "        end\n",
    "        Plots.plot!([i, i], [0, 9], label = false, color = :black, lw = lw)\n",
    "        Plots.plot!([0, 9], [i, i], label = false, color = :black, lw = lw)\n",
    "    end\n",
    "    for r in eachrow(data)\n",
    "        xpos = r.col - 0.5\n",
    "        ypos = 9 - (r.row - 0.5)\n",
    "        Plots.annotate!(xpos, ypos, text(\"$(r.val)\", :black, :center, 10))\n",
    "    end\n",
    "    if show_solved_data\n",
    "        for r in eachrow(solved_data)\n",
    "            xpos = r.col - 0.5\n",
    "            ypos = 9 - (r.row - 0.5)\n",
    "            Plots.annotate!(xpos, ypos, text(\"$(r.val)\", :blue, :center, 10))\n",
    "        end\n",
    "    end\n",
    "    return p\n",
    "end"
   ]
  },
  {
   "cell_type": "code",
   "execution_count": null,
   "metadata": {},
   "outputs": [],
   "source": [
    "visualize_sudoku_inputs(data)"
   ]
  },
  {
   "cell_type": "code",
   "execution_count": null,
   "metadata": {},
   "outputs": [],
   "source": [
    "# visualize your solution here:\n",
    "# solved_data = ... # TODO\n",
    "# visualize_sudoku_inputs(data, show_solved_data = true, solved_data = solved_data = solved_data)"
   ]
  }
 ],
 "metadata": {
  "kernelspec": {
   "display_name": "Julia 1.10.0",
   "language": "julia",
   "name": "julia-1.10"
  },
  "language_info": {
   "file_extension": ".jl",
   "mimetype": "application/julia",
   "name": "julia",
   "version": "1.10.0"
  },
  "orig_nbformat": 4
 },
 "nbformat": 4,
 "nbformat_minor": 2
}
