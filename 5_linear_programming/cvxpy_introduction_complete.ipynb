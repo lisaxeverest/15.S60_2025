{
 "cells": [
  {
   "cell_type": "markdown",
   "metadata": {},
   "source": [
    "# Introduction to CVXPY for Optimization"
   ]
  },
  {
   "cell_type": "markdown",
   "metadata": {},
   "source": [
    "This notebook is from 2024 by Zikai Xiong and Sean Lo. Revised in 2025 by Karl Zhu."
   ]
  },
  {
   "cell_type": "markdown",
   "metadata": {},
   "source": [
    "CVXPY is an open-source Python-embedded modeling language for convex optimization problems. It lets you express your problem in a natural way that follows the math, rather than in the restrictive standard form required by solvers.\n",
    "\n",
    "If you really hate using Julia, then CVXPY is the alternative in Python that can help you out. Other popular Python packages include PuLP (for MILPs) and Pyomo (linear, nonlinear, convex, mixed-integer, stochastic, and more...).\n",
    "\n",
    "To make things less repetitive and more interesting, we will also use PDLP - a new method to solve LPs that can be extended to be solved using GPUs. (https://arxiv.org/abs/2311.12180)\n",
    "\n",
    "The documentation for:\n",
    "- CVXPY https://www.cvxpy.org/\n",
    "- PuLP https://coin-or.github.io/pulp/\n",
    "- Pyomo https://www.pyomo.org/"
   ]
  },
  {
   "cell_type": "code",
   "execution_count": null,
   "metadata": {},
   "outputs": [
    {
     "name": "stdout",
     "output_type": "stream",
     "text": [
      "Collecting cvxpy\n",
      "  Obtaining dependency information for cvxpy from https://files.pythonhosted.org/packages/9d/b0/19028903198cff00a03031aeb7fd4753e4379951e4a48986ef7e3503ff53/cvxpy-1.6.0-cp311-cp311-macosx_10_9_universal2.whl.metadata\n",
      "  Downloading cvxpy-1.6.0-cp311-cp311-macosx_10_9_universal2.whl.metadata (9.2 kB)\n",
      "Collecting osqp>=0.6.2 (from cvxpy)\n",
      "  Obtaining dependency information for osqp>=0.6.2 from https://files.pythonhosted.org/packages/cd/6d/0d17e8fa61809c125f97685d86e6cd6f7b1e745e01b8d3f96d783c8de41b/osqp-0.6.7.post3-cp311-cp311-macosx_11_0_arm64.whl.metadata\n",
      "  Downloading osqp-0.6.7.post3-cp311-cp311-macosx_11_0_arm64.whl.metadata (1.9 kB)\n",
      "Collecting clarabel>=0.5.0 (from cvxpy)\n",
      "  Obtaining dependency information for clarabel>=0.5.0 from https://files.pythonhosted.org/packages/8b/b9/e41f5316a2d4261c340d9fa6aa1694dd57d12cc45f1e5dfc5773d2b53d39/clarabel-0.9.0-cp37-abi3-macosx_10_12_x86_64.macosx_11_0_arm64.macosx_10_12_universal2.whl.metadata\n",
      "  Downloading clarabel-0.9.0-cp37-abi3-macosx_10_12_x86_64.macosx_11_0_arm64.macosx_10_12_universal2.whl.metadata (4.8 kB)\n",
      "Collecting scs>=3.2.4.post1 (from cvxpy)\n",
      "  Obtaining dependency information for scs>=3.2.4.post1 from https://files.pythonhosted.org/packages/1f/e4/b757b7926cc3355ba41ba747afb5e4d6c553d05be840ea25dc47b47b47b1/scs-3.2.7.post2-cp311-cp311-macosx_11_0_arm64.whl.metadata\n",
      "  Downloading scs-3.2.7.post2-cp311-cp311-macosx_11_0_arm64.whl.metadata (2.1 kB)\n",
      "Requirement already satisfied: numpy>=1.20 in /Users/karlzhu/anaconda3/lib/python3.11/site-packages (from cvxpy) (1.24.3)\n",
      "Requirement already satisfied: scipy>=1.1.0 in /Users/karlzhu/anaconda3/lib/python3.11/site-packages (from cvxpy) (1.11.1)\n",
      "Collecting qdldl (from osqp>=0.6.2->cvxpy)\n",
      "  Obtaining dependency information for qdldl from https://files.pythonhosted.org/packages/86/cf/641787a0c64019e76eb8bea925930005960323f1a5539361c209613f4747/qdldl-0.1.7.post5-cp311-cp311-macosx_11_0_arm64.whl.metadata\n",
      "  Downloading qdldl-0.1.7.post5-cp311-cp311-macosx_11_0_arm64.whl.metadata (1.7 kB)\n",
      "Downloading cvxpy-1.6.0-cp311-cp311-macosx_10_9_universal2.whl (1.5 MB)\n",
      "\u001b[2K   \u001b[90m━━━━━━━━━━━━━━━━━━━━━━━━━━━━━━━━━━━━━━━━\u001b[0m \u001b[32m1.5/1.5 MB\u001b[0m \u001b[31m15.7 MB/s\u001b[0m eta \u001b[36m0:00:00\u001b[0ma \u001b[36m0:00:01\u001b[0m\n",
      "\u001b[?25hDownloading clarabel-0.9.0-cp37-abi3-macosx_10_12_x86_64.macosx_11_0_arm64.macosx_10_12_universal2.whl (1.7 MB)\n",
      "\u001b[2K   \u001b[90m━━━━━━━━━━━━━━━━━━━━━━━━━━━━━━━━━━━━━━━━\u001b[0m \u001b[32m1.7/1.7 MB\u001b[0m \u001b[31m22.7 MB/s\u001b[0m eta \u001b[36m0:00:00\u001b[0m00:01\u001b[0m00:01\u001b[0m\n",
      "\u001b[?25hDownloading osqp-0.6.7.post3-cp311-cp311-macosx_11_0_arm64.whl (237 kB)\n",
      "\u001b[2K   \u001b[90m━━━━━━━━━━━━━━━━━━━━━━━━━━━━━━━━━━━━━━━━\u001b[0m \u001b[32m237.6/237.6 kB\u001b[0m \u001b[31m19.0 MB/s\u001b[0m eta \u001b[36m0:00:00\u001b[0m\n",
      "\u001b[?25hDownloading scs-3.2.7.post2-cp311-cp311-macosx_11_0_arm64.whl (93 kB)\n",
      "\u001b[2K   \u001b[90m━━━━━━━━━━━━━━━━━━━━━━━━━━━━━━━━━━━━━━━━\u001b[0m \u001b[32m93.6/93.6 kB\u001b[0m \u001b[31m13.9 MB/s\u001b[0m eta \u001b[36m0:00:00\u001b[0m\n",
      "\u001b[?25hDownloading qdldl-0.1.7.post5-cp311-cp311-macosx_11_0_arm64.whl (103 kB)\n",
      "\u001b[2K   \u001b[90m━━━━━━━━━━━━━━━━━━━━━━━━━━━━━━━━━━━━━━━━\u001b[0m \u001b[32m103.4/103.4 kB\u001b[0m \u001b[31m10.3 MB/s\u001b[0m eta \u001b[36m0:00:00\u001b[0m\n",
      "\u001b[?25hInstalling collected packages: scs, qdldl, clarabel, osqp, cvxpy\n",
      "Successfully installed clarabel-0.9.0 cvxpy-1.6.0 osqp-0.6.7.post3 qdldl-0.1.7.post5 scs-3.2.7.post2\n",
      "Requirement already satisfied: numpy in /Users/karlzhu/anaconda3/lib/python3.11/site-packages (1.24.3)\n",
      "Requirement already satisfied: gurobipy in /Users/karlzhu/anaconda3/lib/python3.11/site-packages (11.0.0)\n",
      "zsh:1: unknown file attribute: h\n"
     ]
    }
   ],
   "source": [
    "# Step 1: Install necessary packages\n",
    "#!pip install cvxpy\n",
    "#!pip install numpy\n",
    "#!pip install gurobipy\n",
    "#!pip install ortools==9.7.2996 # (The version after 9.8 is not supported for cvxpy)\n",
    "#!pip install \"cvxpy[PDLP]\"\n"
   ]
  },
  {
   "cell_type": "code",
   "execution_count": 21,
   "metadata": {},
   "outputs": [
    {
     "name": "stdout",
     "output_type": "stream",
     "text": [
      "Collecting ortools==9.7.2996\n",
      "  Obtaining dependency information for ortools==9.7.2996 from https://files.pythonhosted.org/packages/2d/99/05949d19d6d8d69a391933b65dfc68b8bd0ede492e6f59e8da6fb444d81d/ortools-9.7.2996-cp311-cp311-macosx_11_0_arm64.whl.metadata\n",
      "  Downloading ortools-9.7.2996-cp311-cp311-macosx_11_0_arm64.whl.metadata (2.8 kB)\n",
      "Requirement already satisfied: absl-py>=0.13 in /Users/karlzhu/anaconda3/lib/python3.11/site-packages (from ortools==9.7.2996) (2.1.0)\n",
      "Requirement already satisfied: numpy>=1.13.3 in /Users/karlzhu/anaconda3/lib/python3.11/site-packages (from ortools==9.7.2996) (1.24.3)\n",
      "Requirement already satisfied: protobuf>=4.23.3 in /Users/karlzhu/anaconda3/lib/python3.11/site-packages (from ortools==9.7.2996) (5.26.1)\n",
      "Downloading ortools-9.7.2996-cp311-cp311-macosx_11_0_arm64.whl (15.8 MB)\n",
      "\u001b[2K   \u001b[90m━━━━━━━━━━━━━━━━━━━━━━━━━━━━━━━━━━━━━━━━\u001b[0m \u001b[32m15.8/15.8 MB\u001b[0m \u001b[31m12.6 MB/s\u001b[0m eta \u001b[36m0:00:00\u001b[0m00:01\u001b[0m00:01\u001b[0m\n",
      "\u001b[?25hInstalling collected packages: ortools\n",
      "  Attempting uninstall: ortools\n",
      "    Found existing installation: ortools 9.11.4210\n",
      "    Uninstalling ortools-9.11.4210:\n",
      "      Successfully uninstalled ortools-9.11.4210\n",
      "Successfully installed ortools-9.7.2996\n"
     ]
    }
   ],
   "source": [
    "!pip install ortools==9.7.2996"
   ]
  },
  {
   "cell_type": "code",
   "execution_count": 1,
   "metadata": {},
   "outputs": [],
   "source": [
    "# Step 2: import cvxpy and numpy packages\n",
    "import cvxpy as cp\n",
    "import numpy as np"
   ]
  },
  {
   "cell_type": "code",
   "execution_count": 2,
   "metadata": {},
   "outputs": [
    {
     "name": "stdout",
     "output_type": "stream",
     "text": [
      "['CBC', 'CLARABEL', 'GLOP', 'GUROBI', 'OSQP', 'PDLP', 'SCIPY', 'SCS']\n"
     ]
    }
   ],
   "source": [
    "# Step 3: check installed solvers\n",
    "print(cp.installed_solvers())"
   ]
  },
  {
   "cell_type": "markdown",
   "metadata": {},
   "source": [
    "## Section 1: Linear Optimization Problem"
   ]
  },
  {
   "cell_type": "markdown",
   "metadata": {},
   "source": [
    "Define the optimization variables"
   ]
  },
  {
   "cell_type": "code",
   "execution_count": 6,
   "metadata": {},
   "outputs": [],
   "source": [
    "x = cp.Variable()\n",
    "y = cp.Variable()"
   ]
  },
  {
   "cell_type": "markdown",
   "metadata": {},
   "source": [
    "Define the objective function and constraints"
   ]
  },
  {
   "cell_type": "code",
   "execution_count": 7,
   "metadata": {},
   "outputs": [],
   "source": [
    "objective = cp.Maximize(3*x + 2*y)\n",
    "constraints = [2*x + y <= 10, x + 3*y <= 12, x >= 0, y >= 0]"
   ]
  },
  {
   "cell_type": "markdown",
   "metadata": {},
   "source": [
    "Create the optimization problem"
   ]
  },
  {
   "cell_type": "code",
   "execution_count": 8,
   "metadata": {},
   "outputs": [],
   "source": [
    "linear_problem = cp.Problem(objective, constraints)"
   ]
  },
  {
   "cell_type": "markdown",
   "metadata": {},
   "source": [
    "Solve the problem (We use the solver Gurobi but you can also use other solvers. )"
   ]
  },
  {
   "cell_type": "code",
   "execution_count": 9,
   "metadata": {
    "scrolled": true
   },
   "outputs": [
    {
     "name": "stdout",
     "output_type": "stream",
     "text": [
      "===============================================================================\n",
      "                                     CVXPY                                     \n",
      "                                     v1.6.0                                    \n",
      "===============================================================================\n",
      "(CVXPY) Jan 16 12:45:12 PM: Your problem has 2 variables, 4 constraints, and 0 parameters.\n",
      "(CVXPY) Jan 16 12:45:12 PM: It is compliant with the following grammars: DCP, DQCP\n",
      "(CVXPY) Jan 16 12:45:12 PM: (If you need to solve this problem multiple times, but with different data, consider using parameters.)\n",
      "(CVXPY) Jan 16 12:45:12 PM: CVXPY will first compile your problem; then, it will invoke a numerical solver to obtain a solution.\n",
      "(CVXPY) Jan 16 12:45:12 PM: Your problem is compiled with the CPP canonicalization backend.\n",
      "-------------------------------------------------------------------------------\n",
      "                                  Compilation                                  \n",
      "-------------------------------------------------------------------------------\n",
      "(CVXPY) Jan 16 12:45:12 PM: Compiling problem (target solver=GUROBI).\n",
      "(CVXPY) Jan 16 12:45:12 PM: Reduction chain: FlipObjective -> CvxAttr2Constr -> Qp2SymbolicQp -> QpMatrixStuffing -> GUROBI\n",
      "(CVXPY) Jan 16 12:45:12 PM: Applying reduction FlipObjective\n",
      "(CVXPY) Jan 16 12:45:12 PM: Applying reduction CvxAttr2Constr\n",
      "(CVXPY) Jan 16 12:45:12 PM: Applying reduction Qp2SymbolicQp\n",
      "(CVXPY) Jan 16 12:45:12 PM: Applying reduction QpMatrixStuffing\n",
      "(CVXPY) Jan 16 12:45:12 PM: Applying reduction GUROBI\n",
      "(CVXPY) Jan 16 12:45:12 PM: Finished problem compilation (took 2.037e-02 seconds).\n",
      "-------------------------------------------------------------------------------\n",
      "                                Numerical solver                               \n",
      "-------------------------------------------------------------------------------\n",
      "(CVXPY) Jan 16 12:45:12 PM: Invoking solver GUROBI  to obtain a solution.\n",
      "Set parameter Username\n",
      "Academic license - for non-commercial use only - expires 2026-01-16\n",
      "Set parameter QCPDual to value 1\n",
      "Gurobi Optimizer version 11.0.0 build v11.0.0rc2 (mac64[arm] - Darwin 23.5.0 23F79)\n",
      "\n",
      "CPU model: Apple M1\n",
      "Thread count: 8 physical cores, 8 logical processors, using up to 8 threads\n",
      "\n",
      "Optimize a model with 4 rows, 2 columns and 6 nonzeros\n",
      "Model fingerprint: 0xd8975180\n",
      "Coefficient statistics:\n",
      "  Matrix range     [1e+00, 3e+00]\n",
      "  Objective range  [2e+00, 3e+00]\n",
      "  Bounds range     [0e+00, 0e+00]\n",
      "  RHS range        [1e+01, 1e+01]\n",
      "Presolve removed 2 rows and 0 columns\n",
      "Presolve time: 0.00s\n",
      "Presolved: 2 rows, 2 columns, 4 nonzeros\n",
      "\n",
      "Iteration    Objective       Primal Inf.    Dual Inf.      Time\n",
      "       0   -2.0000000e+01   1.049500e+01   0.000000e+00      0s\n",
      "       2   -1.6400000e+01   0.000000e+00   0.000000e+00      0s\n",
      "\n",
      "Solved in 2 iterations and 0.01 seconds (0.00 work units)\n",
      "Optimal objective -1.640000000e+01\n",
      "-------------------------------------------------------------------------------\n",
      "                                    Summary                                    \n",
      "-------------------------------------------------------------------------------\n",
      "(CVXPY) Jan 16 12:45:12 PM: Problem status: optimal\n",
      "(CVXPY) Jan 16 12:45:12 PM: Optimal value: 1.640e+01\n",
      "(CVXPY) Jan 16 12:45:12 PM: Compilation took 2.037e-02 seconds\n",
      "(CVXPY) Jan 16 12:45:12 PM: Solver (including time spent in interface) took 2.804e-02 seconds\n"
     ]
    },
    {
     "data": {
      "text/plain": [
       "16.4"
      ]
     },
     "execution_count": 9,
     "metadata": {},
     "output_type": "execute_result"
    }
   ],
   "source": [
    "linear_problem.solve(solver=cp.GUROBI,verbose=True)"
   ]
  },
  {
   "cell_type": "markdown",
   "metadata": {},
   "source": [
    "Display the results"
   ]
  },
  {
   "cell_type": "code",
   "execution_count": 10,
   "metadata": {},
   "outputs": [
    {
     "name": "stdout",
     "output_type": "stream",
     "text": [
      "Optimal value: 16.4\n",
      "Optimal x: 3.5999999999999996\n",
      "Optimal y: 2.8000000000000003\n"
     ]
    }
   ],
   "source": [
    "print(\"Optimal value:\", linear_problem.value)\n",
    "print(\"Optimal x:\", x.value)\n",
    "print(\"Optimal y:\", y.value)"
   ]
  },
  {
   "cell_type": "markdown",
   "metadata": {},
   "source": [
    "## Section 2: A First-Order LP Solver (PDLP)"
   ]
  },
  {
   "cell_type": "markdown",
   "metadata": {},
   "source": [
    "In this section we solve a randomly generated \"big\" LP instance using cvxpy and different solvers.\n",
    "\n",
    "The problem is \n",
    "$$\n",
    "\\min c^\\top x, \\ s.t. Ax \\le b \\ ,\n",
    "$$\n",
    "in which $A$ has $m$ rows and $n$ columns. \n",
    "\n",
    "The data is created as follows:"
   ]
  },
  {
   "cell_type": "code",
   "execution_count": 3,
   "metadata": {},
   "outputs": [],
   "source": [
    "np.random.seed(123)\n",
    "m = 5000\n",
    "n = 3000\n",
    "\n",
    "# Generate A, b, c so that (x0,y0) is an optimal primal-dual solution to the LP problem \n",
    "s0 = np.random.randn(m)\n",
    "y0 = np.maximum(-s0, 0)\n",
    "s0 = np.maximum(s0, 0)\n",
    "x0 = np.random.randn(n)\n",
    "A = np.random.randn(m, n)\n",
    "b = A @ x0 + s0\n",
    "c = -A.T @ y0\n",
    "\n",
    "# Define the LP using CVXPY\n",
    "x = cp.Variable(n)\n",
    "big_LP = cp.Problem(cp.Minimize(c.T@x), [A @ x <= b])"
   ]
  },
  {
   "cell_type": "markdown",
   "metadata": {},
   "source": [
    "Solve the problem using the primal simplex method of GUROBI (about 700 seconds)."
   ]
  },
  {
   "cell_type": "code",
   "execution_count": 4,
   "metadata": {
    "scrolled": true
   },
   "outputs": [
    {
     "name": "stdout",
     "output_type": "stream",
     "text": [
      "===============================================================================\n",
      "                                     CVXPY                                     \n",
      "                                     v1.6.0                                    \n",
      "===============================================================================\n",
      "(CVXPY) Jan 16 01:16:51 PM: Your problem has 3000 variables, 5000 constraints, and 0 parameters.\n",
      "(CVXPY) Jan 16 01:16:51 PM: It is compliant with the following grammars: DCP, DQCP\n",
      "(CVXPY) Jan 16 01:16:51 PM: (If you need to solve this problem multiple times, but with different data, consider using parameters.)\n",
      "(CVXPY) Jan 16 01:16:51 PM: CVXPY will first compile your problem; then, it will invoke a numerical solver to obtain a solution.\n",
      "(CVXPY) Jan 16 01:16:51 PM: Your problem is compiled with the CPP canonicalization backend.\n",
      "-------------------------------------------------------------------------------\n",
      "                                  Compilation                                  \n",
      "-------------------------------------------------------------------------------\n",
      "(CVXPY) Jan 16 01:16:51 PM: Compiling problem (target solver=GUROBI).\n",
      "(CVXPY) Jan 16 01:16:51 PM: Reduction chain: CvxAttr2Constr -> Qp2SymbolicQp -> QpMatrixStuffing -> GUROBI\n",
      "(CVXPY) Jan 16 01:16:51 PM: Applying reduction CvxAttr2Constr\n",
      "(CVXPY) Jan 16 01:16:51 PM: Applying reduction Qp2SymbolicQp\n",
      "(CVXPY) Jan 16 01:16:51 PM: Applying reduction QpMatrixStuffing\n",
      "(CVXPY) Jan 16 01:16:54 PM: Applying reduction GUROBI\n",
      "(CVXPY) Jan 16 01:16:55 PM: Finished problem compilation (took 3.290e+00 seconds).\n",
      "-------------------------------------------------------------------------------\n",
      "                                Numerical solver                               \n",
      "-------------------------------------------------------------------------------\n",
      "(CVXPY) Jan 16 01:16:55 PM: Invoking solver GUROBI  to obtain a solution.\n",
      "Set parameter Username\n",
      "Academic license - for non-commercial use only - expires 2026-01-16\n",
      "Set parameter QCPDual to value 1\n",
      "Set parameter Method to value 0\n",
      "Gurobi Optimizer version 11.0.0 build v11.0.0rc2 (mac64[arm] - Darwin 23.5.0 23F79)\n",
      "\n",
      "CPU model: Apple M1\n",
      "Thread count: 8 physical cores, 8 logical processors, using up to 8 threads\n",
      "\n",
      "Optimize a model with 5000 rows, 3000 columns and 15000000 nonzeros\n",
      "Model fingerprint: 0xaa6457d5\n",
      "Coefficient statistics:\n",
      "  Matrix range     [1e-07, 5e+00]\n",
      "  Objective range  [3e-02, 2e+02]\n",
      "  Bounds range     [0e+00, 0e+00]\n",
      "  RHS range        [1e-02, 2e+02]\n",
      "\n",
      "Interrupt request received\n",
      "Presolve time: 3.84s\n",
      "Presolved: 5000 rows, 3000 columns, 15000000 nonzeros\n",
      "\n",
      "Iteration    Objective       Primal Inf.    Dual Inf.      Time\n",
      "       0    0.0000000e+00   2.498590e+04   3.442385e+10      4s\n",
      "\n",
      "Stopped in 0 iterations and 4.14 seconds (4.54 work units)\n",
      "Solve interrupted\n",
      "-------------------------------------------------------------------------------\n",
      "                                    Summary                                    \n",
      "-------------------------------------------------------------------------------\n",
      "(CVXPY) Jan 16 01:16:59 PM: Problem status: infeasible_inaccurate\n",
      "(CVXPY) Jan 16 01:16:59 PM: Optimal value: inf\n",
      "(CVXPY) Jan 16 01:16:59 PM: Compilation took 3.290e+00 seconds\n",
      "(CVXPY) Jan 16 01:16:59 PM: Solver (including time spent in interface) took 4.550e+00 seconds\n",
      "inf\n",
      "None\n"
     ]
    },
    {
     "name": "stderr",
     "output_type": "stream",
     "text": [
      "/Users/karlzhu/anaconda3/lib/python3.11/site-packages/cvxpy/problems/problem.py:1481: UserWarning: Solution may be inaccurate. Try another solver, adjusting the solver settings, or solve with verbose=True for more information.\n",
      "  warnings.warn(\n"
     ]
    }
   ],
   "source": [
    "opt_val=big_LP.solve(solver=cp.GUROBI, verbose=True, Method=0)\n",
    "solution=x.value\n",
    "print(opt_val)\n",
    "print(solution)"
   ]
  },
  {
   "cell_type": "markdown",
   "metadata": {},
   "source": [
    "Solve the problem using the dual simplex method of GUROBI (about 800 seconds.)"
   ]
  },
  {
   "cell_type": "code",
   "execution_count": 13,
   "metadata": {
    "scrolled": true
   },
   "outputs": [
    {
     "name": "stdout",
     "output_type": "stream",
     "text": [
      "===============================================================================\n",
      "                                     CVXPY                                     \n",
      "                                     v1.6.0                                    \n",
      "===============================================================================\n",
      "(CVXPY) Jan 16 12:53:48 PM: Your problem has 3000 variables, 5000 constraints, and 0 parameters.\n",
      "(CVXPY) Jan 16 12:53:48 PM: It is compliant with the following grammars: DCP, DQCP\n",
      "(CVXPY) Jan 16 12:53:48 PM: (If you need to solve this problem multiple times, but with different data, consider using parameters.)\n",
      "(CVXPY) Jan 16 12:53:48 PM: CVXPY will first compile your problem; then, it will invoke a numerical solver to obtain a solution.\n",
      "(CVXPY) Jan 16 12:53:48 PM: Your problem is compiled with the CPP canonicalization backend.\n",
      "-------------------------------------------------------------------------------\n",
      "                                  Compilation                                  \n",
      "-------------------------------------------------------------------------------\n",
      "(CVXPY) Jan 16 12:53:48 PM: Using cached ASA map, for faster compilation (bypassing reduction chain).\n",
      "(CVXPY) Jan 16 12:53:51 PM: Finished problem compilation (took 2.627e+00 seconds).\n",
      "-------------------------------------------------------------------------------\n",
      "                                Numerical solver                               \n",
      "-------------------------------------------------------------------------------\n",
      "(CVXPY) Jan 16 12:53:51 PM: Invoking solver GUROBI  to obtain a solution.\n",
      "Set parameter QCPDual to value 1\n",
      "Set parameter Method to value 1\n",
      "Gurobi Optimizer version 11.0.0 build v11.0.0rc2 (mac64[arm] - Darwin 23.5.0 23F79)\n",
      "\n",
      "CPU model: Apple M1\n",
      "Thread count: 8 physical cores, 8 logical processors, using up to 8 threads\n",
      "\n",
      "Optimize a model with 5000 rows, 3000 columns and 15000000 nonzeros\n",
      "Model fingerprint: 0x0aedcde8\n",
      "Coefficient statistics:\n",
      "  Matrix range     [1e-07, 5e+00]\n",
      "  Objective range  [3e-02, 2e+02]\n",
      "  Bounds range     [0e+00, 0e+00]\n",
      "  RHS range        [1e-02, 2e+02]\n",
      "Presolve time: 3.70s\n",
      "Presolved: 5000 rows, 3000 columns, 15000000 nonzeros\n",
      "\n",
      "Iteration    Objective       Primal Inf.    Dual Inf.      Time\n",
      "       0      handle free variables                          4s\n",
      "     724      handle free variables                          5s\n",
      "    1582      handle free variables                         11s\n",
      "    2165      handle free variables                         17s\n",
      "    2475      handle free variables                         21s\n",
      "    2769      handle free variables                         26s\n",
      "    3000   -3.7567185e+34   5.070495e+34   3.756719e+04     32s\n",
      "    3111   -3.2162777e+34   1.727264e+36   3.216278e+04     36s\n",
      "Warning: Markowitz tolerance tightened to 0.125\n",
      "    3251   -2.6411324e+34   1.276039e+36   2.641132e+04     41s\n",
      "    3391   -2.1554768e+34   7.632546e+35   2.155477e+04     46s\n",
      "    3531   -1.7703239e+34   7.737835e+36   1.770324e+04     52s\n",
      "    3671   -1.5011051e+34   4.702518e+35   1.501105e+04     58s\n",
      "    3811   -1.2668727e+34   2.097050e+35   1.266873e+04     63s\n",
      "    3951   -1.1180078e+34   6.107063e+36   1.118008e+04     69s\n",
      "    4091   -9.8038480e+33   9.566322e+35   9.803848e+03     74s\n",
      "    4231   -8.6490580e+33   1.861302e+35   8.649058e+03     79s\n",
      "    4371   -7.6265797e+33   5.030408e+35   7.626580e+03     85s\n",
      "    4511   -6.7930042e+33   3.095343e+35   6.793004e+03     90s\n",
      "    4651   -6.0438545e+33   1.981906e+35   6.043855e+03     96s\n",
      "    4791   -5.2376562e+33   3.844822e+35   5.237656e+03    102s\n",
      "Warning: Markowitz tolerance tightened to 0.25\n",
      "    4931   -4.8059903e+33   1.371951e+37   4.805990e+03    108s\n",
      "    5071   -4.4263156e+33   9.453876e+34   4.426316e+03    113s\n",
      "    5211   -4.0648139e+33   1.615766e+36   4.064814e+03    119s\n",
      "    5351   -3.7845858e+33   5.500884e+35   3.784586e+03    125s\n",
      "    5491   -3.4970458e+33   1.109326e+35   3.497046e+03    130s\n",
      "    5631   -3.2137549e+33   6.897282e+34   3.213755e+03    136s\n",
      "    5771   -2.8769915e+33   5.101912e+35   2.876992e+03    142s\n",
      "    5911   -2.6080481e+33   5.808590e+34   2.608048e+03    147s\n",
      "    6051   -2.4140573e+33   1.955409e+35   2.414057e+03    152s\n",
      "    6191   -2.2218678e+33   7.702771e+34   2.221868e+03    157s\n",
      "    6331   -2.0420328e+33   3.109518e+35   2.042033e+03    162s\n",
      "    6471   -1.8497496e+33   1.116745e+35   1.849750e+03    167s\n",
      "    6611   -1.6964714e+33   1.072652e+35   1.696471e+03    173s\n",
      "    6751   -1.5434648e+33   1.630521e+35   1.543465e+03    178s\n",
      "    6891   -1.3876319e+33   9.277645e+34   1.387632e+03    183s\n",
      "    7031   -1.2811717e+33   2.244181e+35   1.281172e+03    189s\n",
      "    7171   -1.1812007e+33   6.724807e+34   1.181201e+03    194s\n",
      "    7311   -1.0888709e+33   2.982397e+34   1.088871e+03    200s\n",
      "    7451   -9.9560172e+32   5.012555e+34   9.956017e+02    205s\n",
      "    7591   -9.1283078e+32   2.212821e+35   9.128308e+02    210s\n",
      "    7731   -8.5535019e+32   6.682669e+34   8.553502e+02    216s\n",
      "    7871   -7.7435286e+32   2.605973e+34   7.743529e+02    221s\n",
      "    8011   -7.1962894e+32   2.778125e+34   7.196289e+02    227s\n",
      "    8151   -6.4983548e+32   6.090506e+34   6.498355e+02    232s\n",
      "    8291   -5.9222523e+32   9.841415e+33   5.922252e+02    237s\n",
      "    8431   -5.3521416e+32   4.012809e+34   5.352142e+02    242s\n",
      "    8571   -4.8402155e+32   1.839906e+34   4.840216e+02    247s\n",
      "    8710   -4.3004956e+32   1.029240e+34   4.300496e+02    252s\n",
      "    8850   -3.7795476e+32   5.710506e+34   3.779548e+02    257s\n",
      "    8990   -3.2853666e+32   2.352374e+34   3.285367e+02    262s\n",
      "    9130   -2.9255985e+32   1.893078e+34   2.925599e+02    267s\n",
      "    9270   -2.5546170e+32   5.957277e+34   2.554617e+02    272s\n",
      "    9410   -2.2437648e+32   2.351260e+34   2.243765e+02    277s\n",
      "    9550   -1.9482309e+32   2.287136e+34   1.948231e+02    282s\n",
      "    9690   -1.7373106e+32   2.299202e+34   1.737311e+02    288s\n",
      "    9830   -1.4757975e+32   7.320797e+34   1.475798e+02    293s\n",
      "    9970   -1.2409330e+32   1.118152e+34   1.240933e+02    298s\n",
      "   10110   -1.0130619e+32   1.358279e+34   1.013062e+02    303s\n",
      "   10250   -8.2984080e+31   3.791056e+34   8.298408e+01    308s\n",
      "   10390   -6.5637106e+31   1.085758e+34   6.563711e+01    313s\n",
      "   10530   -5.0573739e+31   3.468973e+33   5.057374e+01    318s\n",
      "   10670   -3.9012115e+31   1.224146e+34   3.901212e+01    323s\n",
      "   10810   -2.7748528e+31   6.745518e+34   2.774853e+01    328s\n",
      "   10950   -1.8619910e+31   9.563391e+33   1.861991e+01    333s\n",
      "   11090   -1.0351746e+31   3.621362e+33   1.035175e+01    338s\n",
      "   11230   -4.9263388e+30   1.992867e+33   4.926339e+00    343s\n",
      "   11369   -1.6052628e+30   1.489782e+33   1.605263e+00    348s\n",
      "   11509    3.6004704e+03   2.710641e+04   0.000000e+00    353s\n",
      "   11648    3.6282283e+03   1.790688e+04   0.000000e+00    358s\n",
      "   11787    3.6524682e+03   4.274482e+03   0.000000e+00    363s\n",
      "   11927    3.6783667e+03   1.378575e+04   0.000000e+00    368s\n",
      "   12066    3.6979254e+03   3.205389e+04   0.000000e+00    373s\n",
      "   12205    3.7158469e+03   8.498107e+04   0.000000e+00    378s\n",
      "   12344    3.7323502e+03   5.730012e+03   0.000000e+00    383s\n",
      "   12483    3.7486762e+03   1.257715e+04   0.000000e+00    388s\n",
      "   12622    3.7658879e+03   1.972809e+04   0.000000e+00    393s\n",
      "   12762    3.7822348e+03   9.519976e+04   0.000000e+00    398s\n",
      "   12901    3.7954303e+03   6.063034e+04   0.000000e+00    403s\n",
      "   13041    3.8098505e+03   7.874236e+03   0.000000e+00    408s\n",
      "   13180    3.8263482e+03   9.255399e+03   0.000000e+00    413s\n",
      "   13320    3.8380489e+03   2.801733e+04   0.000000e+00    418s\n",
      "   13458    3.8498531e+03   1.607036e+04   0.000000e+00    423s\n",
      "   13597    3.8609520e+03   1.176944e+04   0.000000e+00    428s\n",
      "   13736    3.8722651e+03   5.279556e+04   0.000000e+00    433s\n",
      "   13875    3.8823096e+03   6.436673e+03   0.000000e+00    438s\n",
      "   14014    3.8899461e+03   7.768103e+03   0.000000e+00    443s\n",
      "   14153    3.8971710e+03   7.799836e+03   0.000000e+00    448s\n",
      "   14293    3.9052836e+03   4.974340e+04   0.000000e+00    453s\n",
      "   14433    3.9127122e+03   1.019732e+04   0.000000e+00    458s\n",
      "   14572    3.9182312e+03   6.916517e+03   0.000000e+00    463s\n",
      "   14712    3.9239070e+03   1.358909e+04   0.000000e+00    468s\n",
      "   14850    3.9290829e+03   5.504530e+03   0.000000e+00    473s\n",
      "   14990    3.9332203e+03   4.046808e+03   0.000000e+00    478s\n",
      "   15128    3.9370595e+03   1.155557e+04   0.000000e+00    483s\n",
      "   15268    3.9413966e+03   1.500482e+04   0.000000e+00    489s\n",
      "   15408    3.9447000e+03   6.191824e+03   0.000000e+00    495s\n",
      "   15547    3.9475028e+03   7.279502e+03   0.000000e+00    500s\n",
      "   15686    3.9497517e+03   4.321508e+03   0.000000e+00    504s\n",
      "   15825    3.9517409e+03   2.132033e+04   0.000000e+00    509s\n",
      "   15964    3.9537742e+03   1.596212e+04   0.000000e+00    514s\n",
      "   16103    3.9557639e+03   1.618826e+04   0.000000e+00    519s\n",
      "   16243    3.9574179e+03   1.934875e+04   0.000000e+00    524s\n",
      "   16382    3.9588736e+03   1.105713e+04   0.000000e+00    529s\n",
      "   16521    3.9598845e+03   6.609229e+04   0.000000e+00    534s\n",
      "   16661    3.9612547e+03   2.508670e+04   0.000000e+00    539s\n",
      "   16801    3.9625326e+03   1.080328e+04   0.000000e+00    544s\n",
      "   16940    3.9633492e+03   3.860318e+04   0.000000e+00    549s\n",
      "   17080    3.9643947e+03   2.134247e+05   0.000000e+00    554s\n",
      "   17220    3.9647312e+03   1.422537e+03   0.000000e+00    559s\n",
      "   17358    3.9647313e+03   4.571963e+02   0.000000e+00    564s\n",
      "   17497    3.9647316e+03   1.727335e+03   0.000000e+00    569s\n",
      "   17636    3.9647320e+03   3.726940e+02   0.000000e+00    574s\n",
      "   17776    3.9647322e+03   2.475380e+02   0.000000e+00    578s\n",
      "   17915    3.9647324e+03   5.040502e+02   0.000000e+00    583s\n",
      "   18054    3.9647325e+03   3.177197e+02   0.000000e+00    588s\n",
      "   18194    3.9647326e+03   1.970903e+02   0.000000e+00    593s\n",
      "   18334    3.9647326e+03   2.313721e+00   0.000000e+00    598s\n",
      "   18425    3.9647312e+03   0.000000e+00   0.000000e+00    603s\n",
      "\n",
      "Solved in 18425 iterations and 602.90 seconds (1720.75 work units)\n",
      "Optimal objective  3.964731190e+03\n",
      "-------------------------------------------------------------------------------\n",
      "                                    Summary                                    \n",
      "-------------------------------------------------------------------------------\n",
      "(CVXPY) Jan 16 01:03:54 PM: Problem status: optimal\n",
      "(CVXPY) Jan 16 01:03:54 PM: Optimal value: 3.965e+03\n",
      "(CVXPY) Jan 16 01:03:54 PM: Compilation took 2.627e+00 seconds\n",
      "(CVXPY) Jan 16 01:03:54 PM: Solver (including time spent in interface) took 6.036e+02 seconds\n"
     ]
    }
   ],
   "source": [
    "# Solve the problem using the default GUROBI dual simplex method\n",
    "opt_val=big_LP.solve(solver=cp.GUROBI, verbose=True, Method=1)"
   ]
  },
  {
   "cell_type": "markdown",
   "metadata": {},
   "source": [
    "Solve the problem using PDLP (a first-order method for LP).  \n",
    "\n",
    "The PDLP is the primal-dual hybrid gradient (PDHG) method with some practical enhancements. \n",
    "See more details of the mathematical background in https://developers.google.com/optimization/lp/pdlp_math. "
   ]
  },
  {
   "cell_type": "code",
   "execution_count": 5,
   "metadata": {},
   "outputs": [
    {
     "name": "stdout",
     "output_type": "stream",
     "text": [
      "===============================================================================\n",
      "                                     CVXPY                                     \n",
      "                                     v1.6.0                                    \n",
      "===============================================================================\n",
      "(CVXPY) Jan 16 01:17:03 PM: Your problem has 3000 variables, 5000 constraints, and 0 parameters.\n",
      "(CVXPY) Jan 16 01:17:03 PM: It is compliant with the following grammars: DCP, DQCP\n",
      "(CVXPY) Jan 16 01:17:03 PM: (If you need to solve this problem multiple times, but with different data, consider using parameters.)\n",
      "(CVXPY) Jan 16 01:17:03 PM: CVXPY will first compile your problem; then, it will invoke a numerical solver to obtain a solution.\n",
      "(CVXPY) Jan 16 01:17:03 PM: Your problem is compiled with the CPP canonicalization backend.\n",
      "-------------------------------------------------------------------------------\n",
      "                                  Compilation                                  \n",
      "-------------------------------------------------------------------------------\n",
      "(CVXPY) Jan 16 01:17:03 PM: Compiling problem (target solver=PDLP).\n",
      "(CVXPY) Jan 16 01:17:03 PM: Reduction chain: Dcp2Cone -> CvxAttr2Constr -> ConeMatrixStuffing -> PDLP\n",
      "(CVXPY) Jan 16 01:17:03 PM: Applying reduction Dcp2Cone\n",
      "(CVXPY) Jan 16 01:17:03 PM: Applying reduction CvxAttr2Constr\n",
      "(CVXPY) Jan 16 01:17:03 PM: Applying reduction ConeMatrixStuffing\n",
      "(CVXPY) Jan 16 01:17:06 PM: Applying reduction PDLP\n",
      "(CVXPY) Jan 16 01:17:09 PM: Finished problem compilation (took 5.627e+00 seconds).\n",
      "-------------------------------------------------------------------------------\n",
      "                                Numerical solver                               \n",
      "-------------------------------------------------------------------------------\n",
      "(CVXPY) Jan 16 01:17:09 PM: Invoking solver PDLP  to obtain a solution.\n",
      "-------------------------------------------------------------------------------\n",
      "                                    Summary                                    \n",
      "-------------------------------------------------------------------------------\n",
      "(CVXPY) Jan 16 01:19:00 PM: Problem status: optimal\n",
      "(CVXPY) Jan 16 01:19:00 PM: Optimal value: 3.965e+03\n",
      "(CVXPY) Jan 16 01:19:00 PM: Compilation took 5.627e+00 seconds\n",
      "(CVXPY) Jan 16 01:19:00 PM: Solver (including time spent in interface) took 1.109e+02 seconds\n"
     ]
    },
    {
     "name": "stderr",
     "output_type": "stream",
     "text": [
      "WARNING: All log messages before absl::InitializeLog() is called are written to STDERR\n",
      "Problem stats before presolving and rescaling:\n",
      "There are 3000 variables, 5000 constraints, and 15000000 constraint matrix nonzeros.\n",
      "Absolute values of nonzero constraint matrix elements: largest=5.381140, smallest=0.000000, avg=0.798038\n",
      "Constraint matrix, infinity norm: max(row & col)=5.381140, min_col=3.082680, min_row=2.955656\n",
      "Constraint bounds statistics (max absolute value per row): largest=220.898111, smallest=0.012123, avg=43.719825, l2_norm=3867.939661\n",
      "Absolute values of objective vector elements: largest=200.838012, smallest=0.034710, avg=40.066409, l2_norm=2732.719799\n",
      "Gaps between variable upper and lower bounds: #finite=0 of 3000, largest=0.000000, smallest=0.000000, avg=nan\n",
      "Problem stats after presolving and rescaling:\n",
      "There are 3000 variables, 5000 constraints, and 15000000 constraint matrix nonzeros.\n",
      "Absolute values of nonzero constraint matrix elements: largest=0.071478, smallest=0.000000, avg=0.012799\n",
      "Constraint matrix, infinity norm: max(row & col)=0.071478, min_col=0.054541, min_row=0.051823\n",
      "Constraint bounds statistics (max absolute value per row): largest=29.545659, smallest=0.001612, avg=5.996467, l2_norm=530.908412\n",
      "Absolute values of objective vector elements: largest=23.527338, smallest=0.004025, avg=4.689926, l2_norm=320.174419\n",
      "Gaps between variable upper and lower bounds: #finite=0 of 3000, largest=0.000000, smallest=0.000000, avg=nan\n",
      " iter# kkt_pass   time | rel_prim_res rel_dual_res      rel_gap |   prim_resid   dual_resid      obj_gap |     prim_obj     dual_obj |  prim_var_l2  dual_var_l2\n",
      "     0      0.0    3.3 |     0.703725     0.999634      0.00000 |      2722.67      2732.72      0.00000 |      0.00000      0.00000 |      0.00000      0.00000\n",
      "    64     71.0    6.8 |      0.00000     0.781225     0.999605 |      0.00000      2135.65  3.44440e+06 |  3.44508e+06      679.384 |      3770.98      30.0459\n",
      "   128    140.0    9.8 |   0.00562034     0.417675     0.999640 |      21.7448      1141.81  2.10108e+06 |  2.10146e+06      377.955 |      3370.67      49.0904\n",
      "   192    207.0   13.0 |    0.0378635     0.153758     0.991662 |      146.492      420.330      719715. |      722740.      3025.12 |      2458.91      59.3918\n",
      "   256    274.0   15.9 |    0.0195035     0.104863     0.987576 |      75.4577      286.667      509627. |      512832.      3205.08 |      2048.63      60.4106\n",
      "   320    341.0   19.0 |    0.0775550    0.0476521     0.929941 |      300.055      130.268      88122.4 |      91441.4      3318.92 |      629.042      65.3183\n",
      "   384    405.0   21.7 |    0.0375814    0.0242283     0.874430 |      145.400      66.2333      45987.5 |      49289.0      3301.45 |      326.530      65.2135\n",
      "   448    469.0   24.4 |    0.0251791    0.0166103     0.827347 |      97.4163      45.4078      31687.5 |      34993.3      3305.81 |      226.951      65.1074\n",
      "   512    533.0   27.2 |   0.00413226  0.000121829    0.0903715 |      15.9875     0.333046      663.416 |      4001.70      3338.28 |      54.5057      64.7200\n",
      "   576    597.0   30.0 |   0.00338980  4.20031e-05    0.0891632 |      13.1149     0.114825      655.148 |      4000.94      3345.80 |      54.4916      64.6296\n",
      "   640    661.0   32.8 |   0.00299092  6.63329e-05    0.0830918 |      11.5717     0.181336      612.586 |      3991.99      3379.40 |      54.4891      64.1940\n",
      "   704    725.0   35.7 |   0.00278093  2.80085e-05    0.0813239 |      10.7592    0.0765674      601.366 |      3997.53      3396.17 |      54.4884      63.9444\n",
      "   768    789.0   38.7 |   0.00263469  2.02845e-05    0.0795203 |      10.1935    0.0554521      589.525 |      4001.02      3411.49 |      54.4883      63.6953\n",
      "   832    853.0   41.6 |   0.00252722  1.58901e-05    0.0776538 |      9.77766    0.0434390      576.936 |      4002.76      3425.83 |      54.4872      63.4489\n",
      "   896    917.0   44.7 |   0.00243851  1.95467e-05    0.0757537 |      9.43446    0.0534351      563.932 |      4003.61      3439.68 |      54.4873      63.1993\n",
      " iter# kkt_pass   time | rel_prim_res rel_dual_res      rel_gap |   prim_resid   dual_resid      obj_gap |     prim_obj     dual_obj |  prim_var_l2  dual_var_l2\n",
      "   960    981.0   47.8 |   0.00214091  0.000193082    0.0651892 |      8.28304     0.527833      490.521 |      4007.05      3516.53 |      54.4919      61.7913\n",
      "  1024   1045.0   50.7 |   0.00189816  0.000132030    0.0575268 |      7.34385     0.360933      435.981 |      4006.86      3570.88 |      54.4933      60.5665\n",
      "  1088   1109.0   54.0 |   0.00170071  0.000101273    0.0513013 |      6.57996     0.276853      391.048 |      4006.31      3615.26 |      54.4906      59.4786\n",
      "  1152   1173.0   57.9 |   0.00151727  7.94049e-05    0.0460812 |      5.87023     0.217071      352.946 |      4005.58      3652.64 |      54.4895      58.4739\n",
      "  1216   1237.0   61.1 |   0.00137657  6.78989e-05    0.0416036 |      5.32585     0.185617      319.851 |      4003.45      3683.60 |      54.4877      57.5784\n",
      "  1280   1301.0   64.3 |   0.00126040  5.75950e-05    0.0379538 |      4.87641     0.157449      292.689 |      4001.70      3709.01 |      54.4868      56.7910\n",
      "  1344   1365.0   67.5 |   0.00115655  5.13001e-05    0.0346583 |      4.47464     0.140240      268.013 |      4000.01      3732.00 |      54.4860      56.0473\n",
      "  1408   1429.0   70.4 |  0.000853720   0.00154923    0.0165002 |      3.30299      4.23515      129.639 |      3992.75      3863.11 |      54.4856      52.4583\n",
      "  1472   1493.0   73.1 |  0.000591540  0.000773112    0.0103095 |      2.28863      2.11347      81.2821 |      3982.24      3900.96 |      54.4834      50.6213\n",
      "  1536   1557.0   75.9 |  0.000441014  0.000496843   0.00720309 |      1.70626      1.35823      56.8908 |      3977.00      3920.11 |      54.4790      49.8029\n",
      "  1600   1621.0   78.6 |  0.000322536  0.000342107   0.00524194 |      1.24787     0.935224      41.4487 |      3973.78      3932.33 |      54.4780      49.4061\n",
      "  1664   1685.0   81.3 |  1.29565e-05  0.000529588  7.10408e-05 |    0.0501280      1.44774     0.563345 |      3964.72      3964.16 |      54.4747      48.8169\n",
      "  1728   1749.0   84.7 |  6.20904e-06  0.000274663  6.60013e-05 |    0.0240224     0.750853     0.523380 |      3964.68      3964.16 |      54.4751      48.8140\n",
      "  1792   1813.0   87.9 |  3.27807e-06  0.000157022  3.02515e-05 |    0.0126827     0.429254     0.239899 |      3964.70      3964.46 |      54.4753      48.8123\n",
      "  1856   1877.0   90.8 |  2.18449e-06  2.73816e-05 -1.53303e-05 |   0.00845166    0.0748536    -0.121579 |      3964.75      3964.87 |      54.4754      48.8113\n",
      " iter# kkt_pass   time | rel_prim_res rel_dual_res      rel_gap |   prim_resid   dual_resid      obj_gap |     prim_obj     dual_obj |  prim_var_l2  dual_var_l2\n",
      "  1920   1941.0   93.7 |  1.50000e-06  1.25360e-05 -2.30222e-06 |   0.00580343    0.0342700   -0.0182578 |      3964.74      3964.76 |      54.4754      48.8115\n",
      "  1984   2005.0   96.4 |  7.90215e-07  1.00848e-05 -7.58802e-07 |   0.00305729    0.0275690  -0.00601766 |      3964.73      3964.74 |      54.4755      48.8116\n",
      "  2048   2069.0   99.2 |  1.25083e-07  7.16863e-06 -9.24507e-07 |  0.000483937    0.0195970  -0.00733177 |      3964.73      3964.74 |      54.4755      48.8115\n",
      "  2112   2133.0  101.9 |  6.40666e-08  6.96447e-06 -4.77274e-07 |  0.000247870    0.0190389  -0.00378501 |      3964.73      3964.74 |      54.4755      48.8115\n",
      "  2176   2197.0  104.6 |  2.83159e-07  3.64398e-06  1.36968e-06 |   0.00109552   0.00996162    0.0108622 |      3964.73      3964.72 |      54.4754      48.8115\n",
      "  2240   2261.0  107.6 |  1.42577e-07  3.01969e-06  1.48325e-06 |  0.000551621   0.00825499    0.0117628 |      3964.73      3964.72 |      54.4754      48.8115\n",
      "  2304   2325.0  110.5 |  2.61321e-07  8.26186e-07  4.85175e-08 |   0.00101103   0.00225856  0.000384766 |      3964.73      3964.73 |      54.4753      48.8115\n",
      "Termination reason: TERMINATION_REASON_OPTIMAL\n",
      "Solution point type: POINT_TYPE_AVERAGE_ITERATE\n",
      "Final solution stats:\n",
      " iter# kkt_pass   time | rel_prim_res rel_dual_res      rel_gap |   prim_resid   dual_resid      obj_gap |     prim_obj     dual_obj |  prim_var_l2  dual_var_l2\n",
      "  2304   2325.0  110.5 |  2.61321e-07  8.26186e-07  4.85175e-08 |   0.00101103   0.00225856  0.000384766 |      3964.73      3964.73 |      54.4753      48.8115\n"
     ]
    }
   ],
   "source": [
    "opt_val=big_LP.solve(solver=cp.PDLP, verbose=True)"
   ]
  },
  {
   "cell_type": "markdown",
   "metadata": {},
   "source": [
    "It requires no more than 100 seconds!!!"
   ]
  }
 ],
 "metadata": {
  "kernelspec": {
   "display_name": "base",
   "language": "python",
   "name": "python3"
  },
  "language_info": {
   "codemirror_mode": {
    "name": "ipython",
    "version": 3
   },
   "file_extension": ".py",
   "mimetype": "text/x-python",
   "name": "python",
   "nbconvert_exporter": "python",
   "pygments_lexer": "ipython3",
   "version": "3.11.5"
  },
  "toc": {
   "base_numbering": 1,
   "nav_menu": {},
   "number_sections": true,
   "sideBar": true,
   "skip_h1_title": false,
   "title_cell": "Table of Contents",
   "title_sidebar": "Contents",
   "toc_cell": false,
   "toc_position": {},
   "toc_section_display": true,
   "toc_window_display": false
  }
 },
 "nbformat": 4,
 "nbformat_minor": 4
}
